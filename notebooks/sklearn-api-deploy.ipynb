{
 "cells": [
  {
   "attachments": {},
   "cell_type": "markdown",
   "metadata": {},
   "source": [
    "<div class=\"prez-title\"></div>\n",
    "\n",
    "# Deploying a Model Prediction Server\n",
    "\n",
    "*Ethan Swan&nbsp;&nbsp;&nbsp;•&nbsp;&nbsp;&nbsp;PyCon 2023&nbsp;&nbsp;&nbsp;•&nbsp;&nbsp;&nbsp;Slides: [eswan18.github.io/sklearn-api-deploy-slides](https://eswan18.github.io/sklearn-api-deploy-slides)*"
   ]
  },
  {
   "attachments": {},
   "cell_type": "markdown",
   "metadata": {
    "slideshow": {
     "slide_type": "slide"
    }
   },
   "source": [
    "# Welcome!"
   ]
  },
  {
   "attachments": {},
   "cell_type": "markdown",
   "metadata": {
    "slideshow": {
     "slide_type": "slide"
    }
   },
   "source": [
    "# Today's goal\n",
    "\n",
    "Take a **pre-trained model** and deploy it within a **FastAPI app**.\n",
    "\n",
    "\n",
    "- Using a scikit-learn `LogisticRegression` model\n",
    "- Predicting the species of an iris flower."
   ]
  },
  {
   "attachments": {},
   "cell_type": "markdown",
   "metadata": {
    "slideshow": {
     "slide_type": "slide"
    }
   },
   "source": [
    "# First: say hi to your neighbors!\n",
    "\n",
    "Introduce yourself, your job, where you're from.\n",
    "\n",
    "Hopefully you can find a buddy to chat with as we work through challenges together!"
   ]
  },
  {
   "attachments": {},
   "cell_type": "markdown",
   "metadata": {
    "slideshow": {
     "slide_type": "slide"
    }
   },
   "source": [
    "# About me\n",
    "\n",
    "### Day job\n",
    "- **Backend Engineer** on the Analysis Team at [ReviewTrackers](https://www.reviewtrackers.com/)\n",
    "- Previously: **Data Scientist** at [84.51˚](https://www.8451.com/) (5 years)\n",
    "\n",
    "### Outside teaching and consulting\n",
    "- Teaching Python for 6+ years\n",
    "    - Adjunct at University of Cincinnati\n",
    "- I offer **consulting** and **corporate training** services\n",
    "    - Web development & ML engineering"
   ]
  },
  {
   "attachments": {},
   "cell_type": "markdown",
   "metadata": {
    "slideshow": {
     "slide_type": "slide"
    }
   },
   "source": [
    "# Find me online\n",
    "\n",
    "- Website: [ethanswan.com](https://ethanswan.com/)\n",
    "- GitHub: [eswan18](https://github.com/eswan18)\n",
    "- Twitter: [@eswan18](https://twitter.com/eswan18)"
   ]
  },
  {
   "attachments": {},
   "cell_type": "markdown",
   "metadata": {
    "slideshow": {
     "slide_type": "slide"
    }
   },
   "source": [
    "# Agenda\n",
    "\n",
    "1. Setting up your project workspace\n",
    "2. A \"hello world\" FastAPI app\n",
    "3. Pydantic models and payloads\n",
    "4. Connecting a model to an API"
   ]
  },
  {
   "attachments": {},
   "cell_type": "markdown",
   "metadata": {
    "slideshow": {
     "slide_type": "slide"
    }
   },
   "source": [
    "# About this tutorial\n",
    "\n",
    "We'll move quickly through some lecture for each section, and then you'll work through a \"to-do list\" on your own to replicate what we saw in the lecture."
   ]
  },
  {
   "attachments": {},
   "cell_type": "markdown",
   "metadata": {
    "slideshow": {
     "slide_type": "notes"
    }
   },
   "source": [
    "lecture is intended to move fast, but during work time I'll answer questions and come around to help out"
   ]
  },
  {
   "attachments": {},
   "cell_type": "markdown",
   "metadata": {
    "slideshow": {
     "slide_type": "slide"
    }
   },
   "source": [
    "# Resources\n",
    "\n",
    "### Slides\n",
    "[eswan18.github.io/sklearn-api-deploy-slides](https://eswan18.github.io/sklearn-api-deploy-slides)\n",
    "\n",
    "### Application Code\n",
    "[github.com/eswan18/sklearn-api-deploy](https://github.com/eswan18/sklearn-api-deploy)\n",
    "\n",
    "### Incremental Diffs\n",
    "Section 1: [eswan18.github.io/sklearn-api-deploy-slides/diffs/1.html](https://eswan18.github.io/sklearn-api-deploy-slides/diffs/1.html)\n",
    "\n",
    "Section 2: [eswan18.github.io/sklearn-api-deploy-slides/diffs/2.html](https://eswan18.github.io/sklearn-api-deploy-slides/diffs/2.html)\n",
    "\n",
    "Section 3: [eswan18.github.io/sklearn-api-deploy-slides/diffs/3.html](https://eswan18.github.io/sklearn-api-deploy-slides/diffs/3.html)\n",
    "\n",
    "Section 4: [eswan18.github.io/sklearn-api-deploy-slides/diffs/4.html](https://eswan18.github.io/sklearn-api-deploy-slides/diffs/4.html)\n"
   ]
  },
  {
   "attachments": {},
   "cell_type": "markdown",
   "metadata": {
    "slideshow": {
     "slide_type": "slide"
    }
   },
   "source": [
    "<div class=\"section-title\"></div>\n",
    "\n",
    "# Setting up your project workspace"
   ]
  },
  {
   "attachments": {},
   "cell_type": "markdown",
   "metadata": {
    "slideshow": {
     "slide_type": "slide"
    }
   },
   "source": [
    "# Goals\n",
    "- Create a virtual environment with the packages we need\n",
    "- Set up folder structure for we'll use for rest of tutorial"
   ]
  },
  {
   "attachments": {},
   "cell_type": "markdown",
   "metadata": {
    "slideshow": {
     "slide_type": "slide"
    }
   },
   "source": [
    "# Getting started\n",
    "\n",
    "Before we get started...\n",
    "\n",
    "- Choose a folder where you're going to save your work during this tutorial\n",
    "- Make sure you can access it from your IDE and terminal (Bash, PowerShell, etc.)\n"
   ]
  },
  {
   "attachments": {},
   "cell_type": "markdown",
   "metadata": {
    "slideshow": {
     "slide_type": "slide"
    }
   },
   "source": [
    "# Project layout\n",
    "\n",
    "- Keeping a regular project structure makes it easier to find things\n",
    "    - If something is broken, you know where to look\n",
    "- What sorts of things do we need to keep track of?\n",
    "    - Code\n",
    "    - Models\n",
    "    - Tests\n",
    "    - Metadata (dependencies, etc.)"
   ]
  },
  {
   "attachments": {},
   "cell_type": "markdown",
   "metadata": {
    "slideshow": {
     "slide_type": "slide"
    }
   },
   "source": [
    "# Project layout\n",
    "\n",
    "\n",
    "- Make folders for application code (`app`), models (`app/models`), and tests (`tests`)\n",
    "- Create empty `__init__.py` files in `app/` and `app/models/`\n",
    "    - This tells Python that these are packages and makes it easier to import them.\n",
    "\n",
    "```\n",
    "project\n",
    "├── app\n",
    "│   ├── __init__.py\n",
    "│   └── models\n",
    "│       └── __init__.py\n",
    "└── tests\n",
    "```"
   ]
  },
  {
   "attachments": {},
   "cell_type": "markdown",
   "metadata": {
    "slideshow": {
     "slide_type": "slide"
    }
   },
   "source": [
    "Then we'll download the sklearn model file and store it in `app/models`.\n",
    "- `iris_regression.pickle` -> https://github.com/eswan18/sklearn-api-deploy/blob/main/app-section-1/app/models/iris_regression.pickle\n",
    "\n",
    "```\n",
    "project\n",
    "├── README.md\n",
    "├── app\n",
    "│   ├── __init__.py\n",
    "│   └── models\n",
    "│       ├── __init__.py\n",
    "│       └── iris_regression.pickle\n",
    "└── tests\n",
    "```"
   ]
  },
  {
   "attachments": {},
   "cell_type": "markdown",
   "metadata": {
    "slideshow": {
     "slide_type": "slide"
    }
   },
   "source": [
    "# Downloading GitHub files\n",
    "\n",
    "Go to the link and look for the download button (upper right)\n",
    "\n",
    "![GH File Download](images/gh-file-download.png)"
   ]
  },
  {
   "attachments": {},
   "cell_type": "markdown",
   "metadata": {
    "slideshow": {
     "slide_type": "slide"
    }
   },
   "source": [
    "We want to keep track of our project's dependencies and metadata, which we can do with two files in the base of the project:\n",
    "- `setup.cfg` -> https://github.com/eswan18/sklearn-api-deploy/blob/main/app-section-1/setup.cfg\n",
    "- `pyproject.toml` -> https://github.com/eswan18/sklearn-api-deploy/blob/main/app-section-1/pyproject.toml\n",
    "\n",
    "```\n",
    "project\n",
    "├── app\n",
    "│   ├── __init__.py\n",
    "│   └── models\n",
    "│       ├── __init__.py\n",
    "│       └── iris_regression.pickle\n",
    "├── pyproject.toml\n",
    "├── setup.cfg\n",
    "└── tests\n",
    "```"
   ]
  },
  {
   "attachments": {},
   "cell_type": "markdown",
   "metadata": {
    "slideshow": {
     "slide_type": "slide"
    }
   },
   "source": [
    "# `setup.cfg`\n",
    "\n",
    "- A configuration file for a Python package\n",
    "- Project name, dependencies, and optional additional metadata\n",
    "\n",
    "```ini\n",
    "# setup.cfg\n",
    "\n",
    "[metadata]\n",
    "name = app  # What name will we import our package under?\n",
    "version = 0.1.0\n",
    "\n",
    "[options]\n",
    "package_dir =  # Where is the source code for the \"app\" package?\n",
    "    app = app\n",
    "install_requires =  # What dependencies do we need?\n",
    "    anyio==3.6.2\n",
    "    attrs==22.2.0\n",
    "    ... # omitted\n",
    "\n",
    "[options.package_data]\n",
    "app = models/*  # Include non-Python files in the models/ directory.\n",
    "```"
   ]
  },
  {
   "attachments": {},
   "cell_type": "markdown",
   "metadata": {
    "slideshow": {
     "slide_type": "slide"
    }
   },
   "source": [
    "# `pyproject.toml`\n",
    "\n",
    "- Configuration for the \"build tools\" that set up Python packages\n",
    "- We don't need much in here\n",
    "    - Just say that `setuptools` is the tool that should build our package\n",
    "\n",
    "```toml\n",
    "# pyproject.toml\n",
    "\n",
    "[build-system]\n",
    "requires = [\"setuptools\"]\n",
    "```"
   ]
  },
  {
   "attachments": {},
   "cell_type": "markdown",
   "metadata": {
    "slideshow": {
     "slide_type": "slide"
    }
   },
   "source": [
    "# Readmes\n",
    "\n",
    "- Always include a short \"readme\" file with your projects\n",
    "- Explain the purpose of the project and how to install/run it\n",
    "\n",
    "```\n",
    "project\n",
    "├── README.md\n",
    "├── app\n",
    "│   ├── __init__.py\n",
    "│   └── models\n",
    "│       ├── __init__.py\n",
    "│       └── iris_regression.pickle\n",
    "├── pyproject.toml\n",
    "├── setup.cfg\n",
    "└── tests\n",
    "```"
   ]
  },
  {
   "attachments": {},
   "cell_type": "markdown",
   "metadata": {
    "slideshow": {
     "slide_type": "slide"
    }
   },
   "source": [
    "# Readmes\n",
    "\n",
    "- Readmes are usually written in **Markdown**\n",
    "    - Markdown is simple and will just show what you type, but certain symbols (`*`, `#`) have special meaning\n",
    "    - Use file extension `.md`\n",
    "\n",
    "- You can write your own or use mine:\n",
    "    - https://github.com/eswan18/sklearn-api-deploy/blob/main/app-section-1/README.md"
   ]
  },
  {
   "attachments": {},
   "cell_type": "markdown",
   "metadata": {
    "slideshow": {
     "slide_type": "slide"
    }
   },
   "source": [
    "<div class=\"slide-squeeze\"></div>\n",
    "\n",
    "# Iris Prediction API\n",
    "\n",
    "This repo contains an Iris prediction server.\n",
    "To get start the application, run:\n",
    "```\n",
    "uvicorn app.main:app --host 0.0.0.0 --port 8000\n",
    "```\n",
    "\n",
    "## Fetching Predictions\n",
    "\n",
    "If the API server is running at `http://localhost:8000`, then the following should work in a local Python session:\n",
    "```text\n",
    ">>> import requests\n",
    ">>> response = requests.post(\n",
    "...     \"http://localhost:8000/prediction\",\n",
    "...     json={\n",
    "...         \"sepal_width\": 1,\n",
    "...         \"sepal_length\": 1,\n",
    "...         \"petal_length\": 1,\n",
    "...         \"petal_width\": 1,\n",
    "...     },\n",
    "... )\n",
    ">>> response.status_code\n",
    "200\n",
    ">>> response.json()\n",
    "{'flower_type': 0}\n",
    "```"
   ]
  },
  {
   "attachments": {},
   "cell_type": "markdown",
   "metadata": {
    "slideshow": {
     "slide_type": "slide"
    }
   },
   "source": [
    "# Virtual environments\n",
    "\n",
    "- Different projects we work on will typically require different libraries\n",
    "- A \"virtual environment\" is a way to keep a project-specific set of \"dependencies\""
   ]
  },
  {
   "attachments": {},
   "cell_type": "markdown",
   "metadata": {
    "slideshow": {
     "slide_type": "slide"
    }
   },
   "source": [
    "# Creating virtual environments\n",
    "\n",
    "1. Navigate to the base of your project folder in the terminal\n",
    "    - `cd ~/path/to/project` (I can help with this)\n",
    "2. Create a fresh virtual environment with `python3 -m venv venv`\n",
    "3. \"Activate\" this environment\n",
    "    - `source venv/bin/activate` (Bash -- Mac/Linux)\n",
    "    - `.\\venv\\Scripts\\activate` (Powershell -- Windows)\n",
    "4. Install our project in editable mode\n",
    "    - `pip install -e .`"
   ]
  },
  {
   "attachments": {},
   "cell_type": "markdown",
   "metadata": {
    "slideshow": {
     "slide_type": "slide"
    }
   },
   "source": [
    "# Trying it out\n",
    "\n",
    "You can make sure it worked by starting up Python and trying to import FastAPI\n",
    "\n",
    "```\n",
    "(venv) $ python\n",
    ">>> import fastapi\n",
    "```\n",
    "\n",
    "If that runs without error, we're good to go!"
   ]
  },
  {
   "attachments": {},
   "cell_type": "markdown",
   "metadata": {
    "slideshow": {
     "slide_type": "slide"
    }
   },
   "source": [
    "<div class=\"your-turn\"></div>\n",
    "\n",
    "# ❗ To-Do List ❗\n",
    "\n",
    "1. Create folders: `app`, `app/models`, `tests`\n",
    "2. Create empty files: `app/__init__.py` and `app/models/__init__.py`\n",
    "2. Download & save model file in `app/models` folder\n",
    "3. Download & save `setup.cfg` and `pyproject.toml` files in base of project folder\n",
    "4. Write a `README.md` file in base of project folder\n",
    "4. Create a virtual environment and install requirements\n",
    "    - `python3 -m venv venv`\n",
    "    - either:\n",
    "        - `source venv/bin/activate` on Mac/Linux\n",
    "        - `.\\venv\\Scripts\\activate` on Windows\n",
    "    - `pip install -e .`\n",
    "\n",
    "Change summary: [eswan18.github.io/sklearn-api-deploy-slides/diffs/1.html](https://eswan18.github.io/sklearn-api-deploy-slides/diffs/1.html)"
   ]
  },
  {
   "attachments": {},
   "cell_type": "markdown",
   "metadata": {
    "slideshow": {
     "slide_type": "slide"
    }
   },
   "source": [
    "<div class=\"section-title\"></div>\n",
    "\n",
    "# A \"hello world\" FastAPI app"
   ]
  },
  {
   "attachments": {},
   "cell_type": "markdown",
   "metadata": {
    "slideshow": {
     "slide_type": "slide"
    }
   },
   "source": [
    "# Goals\n",
    "- Build a FastAPI app that returns `\"the API is running\"` at `localhost:8000/`"
   ]
  },
  {
   "attachments": {},
   "cell_type": "markdown",
   "metadata": {
    "slideshow": {
     "slide_type": "slide"
    }
   },
   "source": [
    "# Web APIs\n",
    "\n",
    "A Web API is a bit like **a function that you can call over the internet**\n",
    "- You send a **request** and get back a **response**\n",
    "    - A request is like function arguments\n",
    "    - A response is like a function return value\n",
    "- Requests specify a **method** -- a special argument for what type of action to take\n",
    "    - `GET` -> *fetch* some data\n",
    "    - `POST` -> *submit* some data\n",
    "    - ... some others we won't use today"
   ]
  },
  {
   "attachments": {},
   "cell_type": "markdown",
   "metadata": {
    "slideshow": {
     "slide_type": "slide"
    }
   },
   "source": [
    "# HTTP\n",
    "\n",
    "The protocol for doing this is called **HTTP**\n",
    "\n",
    "![Request/response diagram](images/request-response.jpeg)"
   ]
  },
  {
   "attachments": {},
   "cell_type": "markdown",
   "metadata": {
    "slideshow": {
     "slide_type": "slide"
    }
   },
   "source": [
    "# Web APIs\n",
    "\n",
    "APIs are a little bit different from functions though...\n",
    "\n",
    "- **Network issues**: can result in slow (or no) response\n",
    "- **Status codes**: success vs error indicated by a 3-digit code in the response\n",
    "    - Codes 200-299 = success\n",
    "    - Codes 400-599 (eg 404) = error\n",
    "- **Routes**: APIs are called by URL, not function name\n",
    "    - e.g. `https://myweatherapi.com/chicago/temp`\n",
    "    - We call `/chicago/temp` the \"route\" or \"path\""
   ]
  },
  {
   "attachments": {},
   "cell_type": "markdown",
   "metadata": {
    "slideshow": {
     "slide_type": "slide"
    }
   },
   "source": [
    "# FastAPI\n",
    "\n",
    "Awesome Python library for easily building web APIs\n",
    "- **Simple**: Represents each route as a Python function\n",
    "    - Uses type hints to figure out what the request should look like.\n",
    "- **Documentation**: Automatically generates docs\n",
    "- **Performance**: Handles requests asynchronously without any extra work"
   ]
  },
  {
   "attachments": {},
   "cell_type": "markdown",
   "metadata": {
    "slideshow": {
     "slide_type": "slide"
    }
   },
   "source": [
    "# A Simple FastAPI App\n",
    "\n",
    "\n",
    "\n",
    "```python\n",
    "# app/main.py\n",
    "\n",
    "from fastapi import FastAPI\n",
    "\n",
    "app = FastAPI()\n",
    "\n",
    "@app.get(\"/\")  # Listen for GET method requests at \"/\" route\n",
    "def status():\n",
    "    \"\"\"Check that the API is working.\"\"\"\n",
    "    return \"the API is up and running!\"  # Return this as response\n",
    "```"
   ]
  },
  {
   "attachments": {},
   "cell_type": "markdown",
   "metadata": {
    "slideshow": {
     "slide_type": "slide"
    }
   },
   "source": [
    "# Running the App\n",
    "\n",
    "```text\n",
    "$ uvicorn app.main:app --host 0.0.0.0 --port 8000\n",
    "```\n",
    "\n",
    "```text\n",
    "INFO:     Started server process [36347]\n",
    "INFO:     Waiting for application startup.\n",
    "INFO:     Application startup complete.\n",
    "INFO:     Uvicorn running on http://0.0.0.0:8000 (Press CTRL+C to quit)\n",
    "```"
   ]
  },
  {
   "attachments": {},
   "cell_type": "markdown",
   "metadata": {
    "slideshow": {
     "slide_type": "slide"
    }
   },
   "source": [
    "Let's look at `http://localhost:8000/` and `http://localhost:8000/docs`.\n",
    "\n",
    "![FastAPI GET /status](images/fastapi-get-status.png)"
   ]
  },
  {
   "attachments": {},
   "cell_type": "markdown",
   "metadata": {
    "slideshow": {
     "slide_type": "slide"
    }
   },
   "source": [
    "We can also look send requests to the API via `curl`, a command line utility:\n",
    "\n",
    "```bash\n",
    "$ curl -X GET http://localhost:8000\n",
    "```\n",
    "```text\n",
    "\"the API is up and running!\"\n",
    "```"
   ]
  },
  {
   "attachments": {},
   "cell_type": "markdown",
   "metadata": {
    "slideshow": {
     "slide_type": "slide"
    }
   },
   "source": [
    "# Testing our app\n",
    "\n",
    "- Interactive testing is good at first, but **automated tests** are a better solution\n",
    "    - You don't have to manually test your whole app after every change\n",
    "\n",
    "- We're going to use the very popular **`pytest`** library for testing\n",
    "    - Most popular third-party testing library in Python\n",
    "    - Easy to get started with"
   ]
  },
  {
   "attachments": {},
   "cell_type": "markdown",
   "metadata": {
    "slideshow": {
     "slide_type": "slide"
    }
   },
   "source": [
    "# Pytest\n",
    "\n",
    "- Keep your test files in the `tests/` directory\n",
    "- Files should be named `tests/test_<thing>.py`\n",
    "- Tests themselves are just functions with `assert` statements\n",
    "\n",
    "```python\n",
    "# tests/test_addition.py\n",
    "\n",
    "def test_addition_of_2_and_2():\n",
    "    result = 2 + 2\n",
    "    assert result == 4\n",
    "```"
   ]
  },
  {
   "attachments": {},
   "cell_type": "markdown",
   "metadata": {
    "slideshow": {
     "slide_type": "slide"
    }
   },
   "source": [
    "# Pytest Fixtures\n",
    "\n",
    "- Pytest lets you write setup code to use across multiple tests through **fixture functions**\n",
    "- These are generally kept in `tests/conftest.py`"
   ]
  },
  {
   "attachments": {},
   "cell_type": "markdown",
   "metadata": {
    "slideshow": {
     "slide_type": "slide"
    }
   },
   "source": [
    "# Pytest Fixtures\n",
    "\n",
    "In our case, we want to create an instance of our app to use in our tests:\n",
    "\n",
    "```python\n",
    "# tests/conftest.py\n",
    "\n",
    "import pytest\n",
    "from fastapi.testclient import TestClient\n",
    "\n",
    "from app.main import app\n",
    "\n",
    "\n",
    "@pytest.fixture\n",
    "def client() -> TestClient:\n",
    "    return TestClient(app)\n",
    "```"
   ]
  },
  {
   "attachments": {},
   "cell_type": "markdown",
   "metadata": {
    "slideshow": {
     "slide_type": "slide"
    }
   },
   "source": [
    "# Testing our status endpoint\n",
    "\n",
    "Then we can use it in a test that checks the status endpoint:\n",
    "\n",
    "```python\n",
    "# tests/test_app.py\n",
    "\n",
    "from fastapi.testclient import TestClient\n",
    "\n",
    "\n",
    "def test_status_endpoint(client: TestClient):\n",
    "    response = client.get(\"/\")\n",
    "    # 200 is the standard code for \"success\"\n",
    "    assert response.status_code == 200\n",
    "\n",
    "    # response.json() turns the response into Python objects\n",
    "    payload = response.json()\n",
    "    assert payload == \"the API is up and running!\"\n",
    "```"
   ]
  },
  {
   "attachments": {},
   "cell_type": "markdown",
   "metadata": {
    "slideshow": {
     "slide_type": "slide"
    }
   },
   "source": [
    "# Running tests\n",
    "\n",
    "Kick off tests from the command line with `pytest`.\n",
    "\n",
    "![pytest output](images/pytest.png)"
   ]
  },
  {
   "attachments": {},
   "cell_type": "markdown",
   "metadata": {
    "slideshow": {
     "slide_type": "slide"
    }
   },
   "source": [
    "<div class=\"your-turn\"></div>\n",
    "\n",
    "# ❗ To-Do List ❗\n",
    "\n",
    "1. Build a `GET` endpoint for `/`\n",
    "    - At `app/main.py`\n",
    "    - It should return `\"the API is running\"` when pinged\n",
    "2. Test the endpoint interactively\n",
    "    - `uvicorn app.main:app`\n",
    "    - `http://localhost:8000/` in the browser\n",
    "3. Write a test fixture for a `TestClient`\n",
    "    - At `tests/conftest.py`\n",
    "4. Write a test for the `/` endpoint\n",
    "    - At `tests/test_app.py`\n",
    "5. Run tests\n",
    "    - `pytest`\n",
    "\n",
    "Change Summary: [eswan18.github.io/sklearn-api-deploy-slides/diffs/2.html](https://eswan18.github.io/sklearn-api-deploy-slides/diffs/2.html)"
   ]
  },
  {
   "attachments": {},
   "cell_type": "markdown",
   "metadata": {
    "slideshow": {
     "slide_type": "slide"
    }
   },
   "source": [
    "<div class=\"section-title\"></div>\n",
    "\n",
    "# Pydantic models and payloads"
   ]
  },
  {
   "attachments": {},
   "cell_type": "markdown",
   "metadata": {
    "slideshow": {
     "slide_type": "slide"
    }
   },
   "source": [
    "# Goals\n",
    "- Build Pydantic models to represent observations and prediction values for our model\n",
    "- Create a `/predict` endpoint that accepts an observation and returns a (dummy) prediction"
   ]
  },
  {
   "attachments": {},
   "cell_type": "markdown",
   "metadata": {
    "slideshow": {
     "slide_type": "slide"
    }
   },
   "source": [
    "# An endpoint with inputs\n",
    "\n",
    "Right now, our status endpoint doesn't accept any inputs\n",
    "\n",
    "```python\n",
    "@app.get(\"/\")  # Listen for GET method requests at \"/\" route\n",
    "def status():\n",
    "    \"\"\"Check that the API is working.\"\"\"\n",
    "    return \"the API is up and running!\"  # Return this as response\n",
    "```"
   ]
  },
  {
   "attachments": {},
   "cell_type": "markdown",
   "metadata": {
    "slideshow": {
     "slide_type": "slide"
    }
   },
   "source": [
    "# An endpoint with inputs\n",
    "\n",
    "We need to take inputs if we want to return a prediction, e.g.\n",
    "\n",
    "```python\n",
    "def predict(observation):\n",
    "    \"\"\"Return a prediction for the given observation.\"\"\"\n",
    "    prediction = mymodel.predict(observation)\n",
    "    return prediction\n",
    "```"
   ]
  },
  {
   "attachments": {},
   "cell_type": "markdown",
   "metadata": {
    "slideshow": {
     "slide_type": "slide"
    }
   },
   "source": [
    "# Pydantic models\n",
    "\n",
    "Pydantic is a library for defining data models\n",
    "- It provides automatic validation that the data is the right type\n",
    "- It also automatically converts to/from JSON, a common interchange format for the web"
   ]
  },
  {
   "attachments": {},
   "cell_type": "markdown",
   "metadata": {
    "slideshow": {
     "slide_type": "slide"
    }
   },
   "source": [
    "# `Observation` model\n",
    "\n",
    "We can use Pydantic to define a model of the data in an \"observation\":"
   ]
  },
  {
   "attachments": {},
   "cell_type": "markdown",
   "metadata": {},
   "source": [
    "```python\n",
    "from pydantic import BaseModel\n",
    "\n",
    "class Observation(BaseModel):\n",
    "    sepal_length: float\n",
    "    sepal_width: float\n",
    "    petal_length: float\n",
    "    petal_width: float\n",
    "```"
   ]
  },
  {
   "attachments": {},
   "cell_type": "markdown",
   "metadata": {
    "slideshow": {
     "slide_type": "slide"
    }
   },
   "source": [
    "# Pydantic and type annotations\n",
    "\n",
    "Annotating the types of the fields allows Pydantic to validate the data."
   ]
  },
  {
   "attachments": {},
   "cell_type": "markdown",
   "metadata": {},
   "source": [
    "```python\n",
    "from pydantic import BaseModel\n",
    "\n",
    "class Observation(BaseModel):\n",
    "    sepal_length: float\n",
    "    sepal_width: float\n",
    "    petal_length: float\n",
    "    petal_width: float\n",
    "```"
   ]
  },
  {
   "attachments": {},
   "cell_type": "markdown",
   "metadata": {
    "slideshow": {
     "slide_type": "slide"
    }
   },
   "source": [
    "```python\n",
    ">>> obs = Observation(sepal_length=1.4, sepal_width=2, petal_length=3.3, petal_width=4)\n",
    "\n",
    ">>> obs\n",
    "\n",
    "Observation(sepal_length=1.4, sepal_width=2.0, petal_length=3.3, petal_width=4.0)\n",
    "```"
   ]
  },
  {
   "attachments": {},
   "cell_type": "markdown",
   "metadata": {
    "slideshow": {
     "slide_type": "slide"
    }
   },
   "source": [
    "```python\n",
    ">>> obs = Observation(sepal_length=1.4, sepal_width=2, petal_length=3.3, petal_width=\"abc\")\n",
    "\n",
    "ValidationError: 1 validation error for Observation\n",
    "petal_width\n",
    "  value is not a valid float (type=type_error.float)\n",
    "```"
   ]
  },
  {
   "attachments": {},
   "cell_type": "markdown",
   "metadata": {
    "slideshow": {
     "slide_type": "slide"
    }
   },
   "source": [
    "# Valid Pydantic types\n",
    "\n",
    "We only used `float` here, but Pydantic supports most common Python types...\n",
    "\n",
    "- `int`, `float`, `str`, `bool`\n",
    "\n",
    "...as well as abstract types like...\n",
    "\n",
    "- `Literal`, `Union[X, Y]`, `Optional[X]`"
   ]
  },
  {
   "attachments": {},
   "cell_type": "markdown",
   "metadata": {
    "slideshow": {
     "slide_type": "slide"
    }
   },
   "source": [
    "# `Prediction` model\n",
    "\n",
    "We can use the `Literal` type to specify that a prediction must be one of a few specific strings:\n",
    "\n",
    "```python\n",
    "from typing import Literal\n",
    "\n",
    "class Prediction(BaseModel):\n",
    "    flower_type: Literal[\"setosa\", \"versicolor\", \"virginica\"]\n",
    "```"
   ]
  },
  {
   "attachments": {},
   "cell_type": "markdown",
   "metadata": {
    "slideshow": {
     "slide_type": "slide"
    }
   },
   "source": [
    "Let's save both models, along with docstrings.\n",
    "\n",
    "```python\n",
    "# app/pydantic_models.py\n",
    "\n",
    "from typing import Literal\n",
    "from pydantic import BaseModel\n",
    "\n",
    "class Observation(BaseModel):\n",
    "    \"\"\"An observation of a flower's measurements.\"\"\"\n",
    "    sepal_length: float\n",
    "    sepal_width: float\n",
    "    petal_length: float\n",
    "    petal_width: float\n",
    "\n",
    "class Prediction(BaseModel):\n",
    "    \"\"\"A prediction of the species of a flower.\"\"\"\n",
    "    flower_type: Literal[\"setosa\", \"versicolor\", \"virginica\"]\n",
    "```"
   ]
  },
  {
   "attachments": {},
   "cell_type": "markdown",
   "metadata": {
    "slideshow": {
     "slide_type": "slide"
    }
   },
   "source": [
    "# A `predict` endpoint\n",
    "\n",
    "Now that we have models for observations and predictions, we can build a (fake) `/predict` endpoint..."
   ]
  },
  {
   "attachments": {},
   "cell_type": "markdown",
   "metadata": {
    "slideshow": {
     "slide_type": "slide"
    }
   },
   "source": [
    "```python\n",
    "# app/main.py\n",
    "\n",
    "from .pydantic_models import Observation, Prediction\n",
    "\n",
    "@app.post(\"/predict\", status_code=201)\n",
    "def predict(obs: Observation) -> Prediction:\n",
    "    \"\"\"For now, just return a dummy prediction.\"\"\"\n",
    "    return Prediction(flower_type=\"setosa\")\n",
    "```"
   ]
  },
  {
   "attachments": {},
   "cell_type": "markdown",
   "metadata": {
    "slideshow": {
     "slide_type": "fragment"
    }
   },
   "source": [
    "Using **`POST`** instead of `GET`\n",
    "- `POST` is often used for \"creating\" something, and here we're creating a prediction\n",
    "\n",
    "Specifying a **`201` status code** to be returned\n",
    "- `200` is the default for FastAPI, and just means \"OK\"\n",
    "- `201` means \"Created\", which is more appropriate for a `POST` request\n",
    "\n",
    "Using **Python type hints** to tell FastAPI what Pydantic models to use"
   ]
  },
  {
   "attachments": {},
   "cell_type": "markdown",
   "metadata": {
    "slideshow": {
     "slide_type": "slide"
    }
   },
   "source": [
    "# Updating our tests\n",
    "\n",
    "We need to update our tests to exercise the new `/predict` endpoint.\n",
    "\n",
    "```python\n",
    "# tests/test_app.py\n",
    "\n",
    "def test_predict(client: TestClient):\n",
    "    response = client.post(\n",
    "        \"/predict\",\n",
    "        # We pass observation data as a dictionary.\n",
    "        json={\n",
    "            \"sepal_length\": 5.1,\n",
    "            \"sepal_width\": 3.5,\n",
    "            \"petal_length\": 1.4,\n",
    "            \"petal_width\": 0.2,\n",
    "        },\n",
    "    )\n",
    "    assert response.status_code == 201\n",
    "    payload = response.json()\n",
    "    # For now, our fake endpoint always predicts \"setosa\".\n",
    "    assert payload[\"flower_type\"] == \"setosa\"\n",
    "```"
   ]
  },
  {
   "attachments": {},
   "cell_type": "markdown",
   "metadata": {
    "slideshow": {
     "slide_type": "slide"
    }
   },
   "source": [
    "<div class=\"your-turn\"></div>\n",
    "\n",
    "# ❗ To-Do List ❗\n",
    "\n",
    "1. Add `Observation` Pydantic model\n",
    "    - Fields: `sepal_length`, `sepal_width`, `petal_length`, `petal_width`\n",
    "2. Add `Prediction` Pydantic model\n",
    "    - Fields: `flower_type`\n",
    "3. Write a \"fake\" POST `/predict` endpoint\n",
    "    - Test it interactively: `http://localhost:8000/docs`\n",
    "4. Write a test for it\n",
    "    - At `tests/test_app.py`\n",
    "\n",
    "Change Summary: [eswan18.github.io/sklearn-api-deploy-slides/diffs/3.html](https://eswan18.github.io/sklearn-api-deploy-slides/diffs/3.html)"
   ]
  },
  {
   "attachments": {},
   "cell_type": "markdown",
   "metadata": {
    "slideshow": {
     "slide_type": "slide"
    }
   },
   "source": [
    "<div class=\"section-title\"></div>\n",
    "\n",
    "# Connecting our model to the API"
   ]
  },
  {
   "attachments": {},
   "cell_type": "markdown",
   "metadata": {
    "slideshow": {
     "slide_type": "slide"
    }
   },
   "source": [
    "# Goals\n",
    "- Update the implementation of the `/predict` endpoint to use our sklearn model"
   ]
  },
  {
   "attachments": {},
   "cell_type": "markdown",
   "metadata": {
    "slideshow": {
     "slide_type": "slide"
    }
   },
   "source": [
    "# Loading our model\n",
    "\n",
    "- Our model is stored in a file at `app/models/iris_regression.pickle`\n",
    "- We'll use `importlib.resources.open_binary` to open it, and decode it with `pickle`\n",
    "    - Allows us to reference a file relative to our installed package\n",
    "    - Avoids quirks of importing relative to where you run the code from\n"
   ]
  },
  {
   "attachments": {},
   "cell_type": "markdown",
   "metadata": {
    "slideshow": {
     "slide_type": "slide"
    }
   },
   "source": [
    "```python\n",
    "# app/main.py\n",
    "...\n",
    "\n",
    "import importlib\n",
    "import pickle\n",
    "from sklearn.linear_model import LogisticRegression\n",
    "\n",
    "def load_model(model_name: str) -> LogisticRegression:\n",
    "    with importlib.resources.open_binary(\"app.models\", model_name) as f:\n",
    "        model = pickle.load(f)\n",
    "    return model\n",
    "\n",
    "@app.get(\"/\")\n",
    "def status():\n",
    "    \"\"\"Check that the API is working.\"\"\"\n",
    "    return \"the API is up and running!\"\n",
    "```"
   ]
  },
  {
   "attachments": {},
   "cell_type": "markdown",
   "metadata": {
    "slideshow": {
     "slide_type": "slide"
    }
   },
   "source": [
    "# Loading our model\n",
    "\n",
    "- We'll save the model name in a constant..\n",
    "    - So we can update it in future, e.g. `iris_regression_v2.pickle`\n",
    "- ...and load it before our endpoint code:"
   ]
  },
  {
   "attachments": {},
   "cell_type": "markdown",
   "metadata": {
    "slideshow": {
     "slide_type": "slide"
    }
   },
   "source": [
    "```python\n",
    "# app/main.py\n",
    "...\n",
    "\n",
    "import importlib\n",
    "import pickle\n",
    "from sklearn.linear_model import LogisticRegression\n",
    "\n",
    "def load_model(model_name: str) -> LogisticRegression:\n",
    "    with importlib.resources.open_binary(\"app.models\", model_name) as f:\n",
    "        model = pickle.load(f)\n",
    "    return model\n",
    "\n",
    "MODEL_NAME = \"iris_regression.pickle\"\n",
    "model = load_model(MODEL_NAME)\n",
    "app = FastAPI()\n",
    "\n",
    "@app.get(\"/\")\n",
    "def status():\n",
    "    \"\"\"Check that the API is working.\"\"\"\n",
    "    return \"the API is up and running!\"\n",
    "```"
   ]
  },
  {
   "attachments": {},
   "cell_type": "markdown",
   "metadata": {
    "slideshow": {
     "slide_type": "slide"
    }
   },
   "source": [
    "# Loading in global scope\n",
    "\n",
    "We *could* run `load_model()` within the endpoint where it's used -- why not?\n",
    "\n",
    "- Loading models can be **slow**, and that would add latency to our predictions\n",
    "    - Some models are large, like neural nets\n",
    "- Running `load_model()` outside any endpoint **loads the model just a single time** for our whole application"
   ]
  },
  {
   "attachments": {},
   "cell_type": "markdown",
   "metadata": {
    "slideshow": {
     "slide_type": "slide"
    }
   },
   "source": [
    "# Predictions\n",
    "\n",
    "Before writing a predict endpoint, let's look at how to make predictions with a model.\n",
    "\n",
    "```python\n",
    ">>> model = load_model(\"iris_regression.pickle\")\n",
    ">>> model\n",
    "LogisticRegression(max_iter=1000)\n",
    "```"
   ]
  },
  {
   "attachments": {},
   "cell_type": "markdown",
   "metadata": {
    "slideshow": {
     "slide_type": "slide"
    }
   },
   "source": [
    "```python\n",
    ">>> import pandas as pd\n",
    ">>> observation = pd.Series({\n",
    "...     \"sepal length (cm)\": 1,\n",
    "...     \"sepal width (cm)\": 2,\n",
    "...     \"petal length (cm)\": 3,\n",
    "...     \"petal width (cm)\": 4,\n",
    "... })\n",
    ">>> observation\n",
    "sepal length (cm)    1\n",
    "sepal width (cm)     2\n",
    "petal length (cm)    3\n",
    "petal width (cm)     4\n",
    "dtype: int64\n",
    "```"
   ]
  },
  {
   "attachments": {},
   "cell_type": "markdown",
   "metadata": {
    "slideshow": {
     "slide_type": "slide"
    }
   },
   "source": [
    "Predicting on a single observation gives an error\n",
    "\n",
    "```python\n",
    ">>> observation\n",
    "sepal length (cm)    1\n",
    "sepal width (cm)     2\n",
    "petal length (cm)    3\n",
    "petal width (cm)     4\n",
    "dtype: int64\n",
    ">>> model.predict(observation)\n",
    "/Users/eswan18/Develop/sklearn-api-deploy/.venv/lib/python3.10/site-packages/sklearn/base.py:439: UserWarning: X does not have valid feature names, but LogisticRegression was fitted with feature names\n",
    "  warnings.warn(\n",
    "Traceback (most recent call last):\n",
    "  <...omitted...>\n",
    "  ValueError: Expected 2D array, got 1D array instead:\n",
    "array=[1 2 3 4].\n",
    "Reshape your data either using array.reshape(-1, 1) if your data has a single feature or array.reshape(1, -1) if it contains a single sample.\n",
    "```\n",
    "\n",
    "The model expects a **2-dimensional array or a DataFrame** but we gave a Series (1-dimensional)"
   ]
  },
  {
   "attachments": {},
   "cell_type": "markdown",
   "metadata": {
    "slideshow": {
     "slide_type": "slide"
    }
   },
   "source": [
    "Luckily, we can easily turn an observation into a one-row DataFrame...\n",
    "\n",
    "```python\n",
    ">>> obs_df = pd.DataFrame([observation])\n",
    ">>> obs_df\n",
    "   sepal length (cm)  sepal width (cm)  petal length (cm)  petal width (cm)\n",
    "0                  1                 2                  3                 4\n",
    ">>> predictions = model.predict(obs_df)\n",
    ">>> predictions\n",
    "array([2])\n",
    "```"
   ]
  },
  {
   "attachments": {},
   "cell_type": "markdown",
   "metadata": {
    "slideshow": {
     "slide_type": "slide"
    }
   },
   "source": [
    "We get back an array with a prediction for every row -- although we only passed one.\n",
    "\n",
    "```python\n",
    ">>> predictions\n",
    "array([2])\n",
    ">>> obs_prediction = predictions[0] \n",
    ">>> obs_prediction\n",
    "2\n",
    "```\n",
    "\n",
    "We'll need a mapping to convert the class number (here `2`) back to a flower name.\n",
    "\n",
    "```python\n",
    ">>> class_flower_mapping = {\n",
    "...     0: 'setosa',\n",
    "...     1: 'versicolor',\n",
    "...     2: 'virginica',\n",
    "... }\n",
    ">>> predicted_flower = class_flower_mapping[obs_prediction]\n",
    ">>> predicted_flower\n",
    "'virginica'\n",
    "```"
   ]
  },
  {
   "attachments": {},
   "cell_type": "markdown",
   "metadata": {
    "slideshow": {
     "slide_type": "slide"
    }
   },
   "source": [
    "# Adding this to our `/predict` code.\n",
    "\n",
    "We left last section with this \"dummy\" `/predict` endpoint.\n",
    "\n",
    "```python\n",
    "@app.post(\"/predict\", status_code=201)\n",
    "def predict(obs: Observation) -> Prediction:\n",
    "    \"\"\"For now, just return a dummy prediction.\"\"\"\n",
    "    return Prediction(flower_type=\"setosa\")\n",
    "```"
   ]
  },
  {
   "attachments": {},
   "cell_type": "markdown",
   "metadata": {
    "slideshow": {
     "slide_type": "slide"
    }
   },
   "source": [
    "Now...\n",
    "\n",
    "```python\n",
    "CLASS_FLOWER_MAPPING = {\n",
    "    0: 'setosa',\n",
    "    1: 'versicolor',\n",
    "    2: 'virginica',\n",
    "}\n",
    "\n",
    "@app.post(\"/predict\", status_code=201)\n",
    "def predict(obs: Observation) -> Prediction:\n",
    "    \"\"\"For now, just return a dummy prediction.\"\"\"\n",
    "    # .predict() gives us an array, but it has only one element\n",
    "    prediction = model.predict(obs.as_dataframe())[0]\n",
    "    flower_type = CLASS_FLOWER_MAPPING[prediction]\n",
    "    pred = Prediction(flower_type=flower_type)\n",
    "    return pred\n",
    "```\n",
    "\n",
    "We're missing just one piece --  the implemention of `Observation.as_dataframe()`."
   ]
  },
  {
   "attachments": {},
   "cell_type": "markdown",
   "metadata": {
    "slideshow": {
     "slide_type": "slide"
    }
   },
   "source": [
    "Updating our Observation with `.as_row()` and `as_dataframe()`:\n",
    "\n",
    "```python\n",
    "import pandas as pd\n",
    "\n",
    "class Observation(BaseModel):\n",
    "    \"\"\"An observation of a flower's measurements.\"\"\"\n",
    "    sepal_length: float\n",
    "    sepal_width: float\n",
    "    petal_length: float\n",
    "    petal_width: float\n",
    "\n",
    "    def as_dataframe(self) -> pd.DataFrame:\n",
    "        \"\"\"Convert this record to a DataFrame with one row.\"\"\"\n",
    "        return pd.DataFrame([self.as_row()])\n",
    "\n",
    "    def as_row(self) -> pd.Series:\n",
    "        row = pd.Series({\n",
    "            \"sepal length (cm)\": self.sepal_length,\n",
    "            \"sepal width (cm)\": self.sepal_width,\n",
    "            \"petal length (cm)\": self.petal_length,\n",
    "            \"petal width (cm)\": self.petal_width,\n",
    "        })\n",
    "        return row\n",
    "```"
   ]
  },
  {
   "attachments": {},
   "cell_type": "markdown",
   "metadata": {
    "slideshow": {
     "slide_type": "slide"
    }
   },
   "source": [
    "<div class=\"your-turn\"></div>\n",
    "\n",
    "# ❗ To-Do List ❗\n",
    "\n",
    "1. Write `load_model()` function\n",
    "    - At `app/main.py`\n",
    "2. Add `Observation.as_row()` method, returning a `pandas.Series`\n",
    "3. Add `Observation.as_dataframe()` method, returning a `pandas.DataFrame`\n",
    "4. Implement `/predict` endpoint with the real model\n",
    "    - Test it interactively: `http://localhost:8000/docs`\n",
    "5. Update test for for POST `/predict` endpoint\n",
    "    - Add an observation: `[7.1, 3.5, 3.0, 0.8]` -> `versicolor`\n",
    "\n",
    "## Optional\n",
    "\n",
    "1. Add a POST `/batch_predict` endpoint\n",
    "    - `def batch_predict(observations: List[Observation]) -> List[Prediction]:`\n",
    "2. Add a test for it\n",
    "\n",
    "Change Summary: [eswan18.github.io/sklearn-api-deploy-slides/diffs/4.html](https://eswan18.github.io/sklearn-api-deploy-slides/diffs/4.html)"
   ]
  },
  {
   "attachments": {},
   "cell_type": "markdown",
   "metadata": {
    "slideshow": {
     "slide_type": "slide"
    }
   },
   "source": [
    "# Questions"
   ]
  },
  {
   "attachments": {},
   "cell_type": "markdown",
   "metadata": {
    "slideshow": {
     "slide_type": "slide"
    }
   },
   "source": [
    "<div class=\"section-title\"></div>\n",
    "\n",
    "# Other topics"
   ]
  },
  {
   "attachments": {},
   "cell_type": "markdown",
   "metadata": {
    "slideshow": {
     "slide_type": "slide"
    }
   },
   "source": [
    "# Package managers\n",
    "\n",
    "- Using `requirements.txt` alone is a bit hacky\n",
    "    - No way to separate *direct* dependencies from *transitive* dependencies\n",
    "- A tool like `poetry` is a good choice\n",
    "    - Separates direct deps (in `pyproject.toml`) from transitive deps (in `poetry.lock`)\n",
    "    - Handles upgrades\n",
    "    - Allows for installing your project as a package, making imports easier"
   ]
  },
  {
   "attachments": {},
   "cell_type": "markdown",
   "metadata": {
    "slideshow": {
     "slide_type": "slide"
    }
   },
   "source": [
    "# Model storage formats\n",
    "\n",
    "- We used pickle for simplicity\n",
    "- Pickle has some compatibility concerns\n",
    "    - Not always portable across Python versions, package versions, and OSes/architectures\n",
    "- However, not a lot of other common options in my experience\n",
    "    - Can save a matrix of weights if it's a neural net\n",
    "    - Some packages have their own serialization formats"
   ]
  },
  {
   "attachments": {},
   "cell_type": "markdown",
   "metadata": {
    "slideshow": {
     "slide_type": "slide"
    }
   },
   "source": [
    "# Alternatives to API-based deployment\n",
    "\n",
    "- **Batch prediction**: run predictions on a schedule and save results to a database\n",
    "    - If model scoring is slow, this means predictions are ready when needed\n",
    "    - *But* your predictions can be out-of-date\n",
    "- **Streaming prediction**: score data in small batches as it arrives\n",
    "    - Again, predictions are ready when needed (usually)\n",
    "    - *But* more complicated to set up than batch or API-based prediction"
   ]
  },
  {
   "attachments": {},
   "cell_type": "markdown",
   "metadata": {
    "slideshow": {
     "slide_type": "slide"
    }
   },
   "source": [
    "# Thorough testing\n",
    "\n",
    "- We only really wrote one test\n",
    "- Ideally you'd have several tests for each endpoint\n",
    "    - Test the \"happy path\" with a few predictions\n",
    "    - Test error handling with bad inputs\n",
    "- How to handle testing the model itself? Tricky question\n",
    "    - Often not so bad to test a few predictions, but this may change with new model versions\n",
    "    - An active field right now, I haven't seen clear consensus"
   ]
  },
  {
   "attachments": {},
   "cell_type": "markdown",
   "metadata": {
    "slideshow": {
     "slide_type": "slide"
    }
   },
   "source": [
    "# Authentication\n",
    "\n",
    "- A data scientist probably won't (and shouldn't) write authentication code\n",
    "- However, it's good to be aware of the options\n",
    "    - Basic auth: just pass username and password\n",
    "    - API keys: issue a token to the user that they send back with their requests\n",
    "    - OAuth: a more complicated protocol for authentication"
   ]
  },
  {
   "attachments": {},
   "cell_type": "markdown",
   "metadata": {
    "slideshow": {
     "slide_type": "slide"
    }
   },
   "source": [
    "# Deploying an API\n",
    "\n",
    "- As a data scientist or ML engineer, unlikely you'll be doing this but maybe\n",
    "- Typically, host it in the cloud:\n",
    "    - Simple: Heroku\n",
    "    - Medium: containerize (with Docker) and run app on AWS, GCP, Azure\n",
    "    - Hard: Kubernetes"
   ]
  }
 ],
 "metadata": {
  "language_info": {
   "name": "python"
  },
  "orig_nbformat": 4
 },
 "nbformat": 4,
 "nbformat_minor": 2
}
