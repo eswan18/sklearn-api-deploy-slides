{
 "cells": [
  {
   "attachments": {},
   "cell_type": "markdown",
   "metadata": {},
   "source": [
    "<div class=\"prez-title\"></div>\n",
    "\n",
    "# Deploying a Model Prediction Server\n",
    "\n",
    "*Ethan Swan&nbsp;&nbsp;•&nbsp;&nbsp;PyCon 2023*"
   ]
  },
  {
   "attachments": {},
   "cell_type": "markdown",
   "metadata": {
    "slideshow": {
     "slide_type": "slide"
    }
   },
   "source": [
    "Why are we here today?"
   ]
  },
  {
   "attachments": {},
   "cell_type": "markdown",
   "metadata": {
    "slideshow": {
     "slide_type": "slide"
    }
   },
   "source": [
    "# Agenda\n",
    "\n",
    "- Intro\n",
    "- Content:\n",
    "    1. Setting up your project workspace\n",
    "    2. A \"hello world\" FastAPI app\n",
    "    3. Pydantic models and payloads\n",
    "    4. Connecting a model to an API\n",
    "- Questions, extra work time, and miscellaneous topics"
   ]
  },
  {
   "attachments": {},
   "cell_type": "markdown",
   "metadata": {
    "slideshow": {
     "slide_type": "slide"
    }
   },
   "source": [
    "<div class=\"section-title\"></div>\n",
    "\n",
    "# Setting up your project workspace"
   ]
  },
  {
   "attachments": {},
   "cell_type": "markdown",
   "metadata": {
    "slideshow": {
     "slide_type": "slide"
    }
   },
   "source": [
    "<div class=\"your-turn\"></div>\n",
    "\n",
    "# ❗ Your Turn ❗\n",
    "\n",
    "1. Create folders: `app`, `models`, `tests`\n",
    "2. Save model file in `models` folder\n",
    "3. Save `requirements.txt` file in base of project\n",
    "4. Create a virtual environment and install requirements\n",
    "    - `python3 -m venv .venv`\n",
    "    - `source .venv/bin/activate`\n",
    "    - `pip install -r requirements.txt`\n"
   ]
  },
  {
   "attachments": {},
   "cell_type": "markdown",
   "metadata": {
    "slideshow": {
     "slide_type": "slide"
    }
   },
   "source": [
    "<div class=\"section-title\"></div>\n",
    "\n",
    "# A \"hello world\"<br>FastAPI app"
   ]
  },
  {
   "attachments": {},
   "cell_type": "markdown",
   "metadata": {
    "slideshow": {
     "slide_type": "slide"
    }
   },
   "source": [
    "<div class=\"your-turn\"></div>\n",
    "\n",
    "# ❗ Your Turn ❗\n",
    "\n",
    "1. Build a `GET` endpoint for `/status`\n",
    "    - It should return `\"the API is running\"` when pinged\n",
    "2. Test the endpoint interactively\n",
    "    - `uvicorn app.main:app`\n",
    "    - `http://localhost:8000/status` in the browser\n",
    "3. Write a test fixture for a `TestClient`\n",
    "    - At `tests/conftest.py`\n",
    "4. Write a test for the `/status` endpoint\n",
    "    - At `tests/test_app.py`\n",
    "5. Run tests\n",
    "    - `python -m pytest`\n"
   ]
  },
  {
   "attachments": {},
   "cell_type": "markdown",
   "metadata": {
    "slideshow": {
     "slide_type": "slide"
    }
   },
   "source": [
    "<div class=\"section-title\"></div>\n",
    "\n",
    "# Pydantic models and payloads"
   ]
  },
  {
   "attachments": {},
   "cell_type": "markdown",
   "metadata": {
    "slideshow": {
     "slide_type": "slide"
    }
   },
   "source": [
    "<div class=\"section-title\"></div>\n",
    "\n",
    "# Connecting our model to the API"
   ]
  },
  {
   "cell_type": "markdown",
   "metadata": {},
   "source": []
  }
 ],
 "metadata": {
  "language_info": {
   "name": "python"
  },
  "orig_nbformat": 4
 },
 "nbformat": 4,
 "nbformat_minor": 2
}
