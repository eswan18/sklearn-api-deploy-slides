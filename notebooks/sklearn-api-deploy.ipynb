{
 "cells": [
  {
   "attachments": {},
   "cell_type": "markdown",
   "metadata": {},
   "source": [
    "<div class=\"prez-title\"></div>\n",
    "\n",
    "# Deploying a Model Prediction Server\n",
    "\n",
    "*Ethan Swan&nbsp;&nbsp;&nbsp;&nbsp;•&nbsp;&nbsp;&nbsp;&nbsp;PyCon 2023*"
   ]
  },
  {
   "attachments": {},
   "cell_type": "markdown",
   "metadata": {
    "slideshow": {
     "slide_type": "slide"
    }
   },
   "source": [
    "# Welcome!"
   ]
  },
  {
   "attachments": {},
   "cell_type": "markdown",
   "metadata": {
    "slideshow": {
     "slide_type": "slide"
    }
   },
   "source": [
    "# Today's Goal\n",
    "\n",
    "Take a **pre-trained model** and deploy it within a **FastAPI app**.\n",
    "\n",
    "\n",
    "- Using a scikit-learn `LogisticRegression` model\n",
    "- Predicting the species of an iris flower."
   ]
  },
  {
   "attachments": {},
   "cell_type": "markdown",
   "metadata": {
    "slideshow": {
     "slide_type": "slide"
    }
   },
   "source": [
    "# About Me\n",
    "\n",
    "### Day Job\n",
    "- **Backend Engineer** on the Analysis Team at [ReviewTrackers](https://www.reviewtrackers.com/)\n",
    "- Previously: **Data Scientist** at [84.51˚](https://www.8451.com/) (5 years)\n",
    "\n",
    "### Outside Teaching and Consulting\n",
    "- Teaching Python for 6+ years\n",
    "    - Adjunct at University of Cincinnati\n",
    "- I offer **consulting** and **corporate training** services\n",
    "    - Web development & ML engineering"
   ]
  },
  {
   "attachments": {},
   "cell_type": "markdown",
   "metadata": {
    "slideshow": {
     "slide_type": "slide"
    }
   },
   "source": [
    "# Agenda\n",
    "\n",
    "1. Setting up your project workspace\n",
    "2. A \"hello world\" FastAPI app\n",
    "3. Pydantic models and payloads\n",
    "4. Connecting a model to an API"
   ]
  },
  {
   "attachments": {},
   "cell_type": "markdown",
   "metadata": {
    "slideshow": {
     "slide_type": "slide"
    }
   },
   "source": [
    "<div class=\"section-title\"></div>\n",
    "\n",
    "# Setting up your project workspace"
   ]
  },
  {
   "attachments": {},
   "cell_type": "markdown",
   "metadata": {
    "slideshow": {
     "slide_type": "slide"
    }
   },
   "source": [
    "# Goals\n",
    "- Create a virtual environment with the packages we need\n",
    "- Set up folder structure for we'll use for rest of tutorial"
   ]
  },
  {
   "attachments": {},
   "cell_type": "markdown",
   "metadata": {
    "slideshow": {
     "slide_type": "slide"
    }
   },
   "source": [
    "# Getting Started\n",
    "\n",
    "Before we get started...\n",
    "\n",
    "- Choose a folder where you're going to save your work during this tutorial\n",
    "- Make sure you can access it from your IDE\n"
   ]
  },
  {
   "cell_type": "markdown",
   "metadata": {
    "slideshow": {
     "slide_type": "slide"
    }
   },
   "source": [
    "# Project Layout\n",
    "\n",
    "- Keeping a regular project structure makes it easier to find things\n",
    "    - If something is broken, you know where to look\n",
    "- What sorts of things do we need to keep track of?\n",
    "    - Code\n",
    "    - Models\n",
    "    - Tests\n",
    "    - Metadata (dependencies, etc.)"
   ]
  },
  {
   "attachments": {},
   "cell_type": "markdown",
   "metadata": {
    "slideshow": {
     "slide_type": "slide"
    }
   },
   "source": [
    "# Project Layout\n",
    "\n",
    "\n",
    "- Make folders for application code (`app`), models (`models`), and tests (`tests`)\n",
    "- Any metadata will go at the root of the repo.\n",
    "\n",
    "```\n",
    "project\n",
    "├── app/\n",
    "├── models/\n",
    "└── tests/\n",
    "```"
   ]
  },
  {
   "attachments": {},
   "cell_type": "markdown",
   "metadata": {
    "slideshow": {
     "slide_type": "slide"
    }
   },
   "source": [
    "# Project Layout\n",
    "\n",
    "\n",
    "We'll also download and add a couple of files to get started\n",
    "- `requirements.txt` -> https://github.com/eswan18/sklearn-api-deploy/blob/main/app-section-1/requirements.txt\n",
    "- `iris_regression.pickle` -> https://github.com/eswan18/sklearn-api-deploy/blob/main/app-section-1/models/iris_regression.pickle\n",
    "\n",
    "```\n",
    "project\n",
    "├── app/\n",
    "├── models/\n",
    "│   └── iris_regression.pickle\n",
    "├── tests/\n",
    "└── requirements.txt\n",
    "```"
   ]
  },
  {
   "attachments": {},
   "cell_type": "markdown",
   "metadata": {
    "slideshow": {
     "slide_type": "slide"
    }
   },
   "source": [
    "# Downloading GitHub Files\n",
    "\n",
    "Go to the link and look for the download button (upper right)\n",
    "\n",
    "![GH File Download](images/gh-file-download.png)"
   ]
  },
  {
   "attachments": {},
   "cell_type": "markdown",
   "metadata": {
    "slideshow": {
     "slide_type": "slide"
    }
   },
   "source": [
    "# Readmes\n",
    "\n",
    "- Always include a short \"readme\" file with your projects\n",
    "- Explain the purpose of the project and how to install/run it\n",
    "\n",
    "\n",
    "```\n",
    "project\n",
    "├── app/\n",
    "├── models/\n",
    "│   └── iris_regression.pickle\n",
    "├── tests/\n",
    "├── README.md\n",
    "└── requirements.txt\n",
    "```"
   ]
  },
  {
   "attachments": {},
   "cell_type": "markdown",
   "metadata": {
    "slideshow": {
     "slide_type": "slide"
    }
   },
   "source": [
    "# Readmes\n",
    "\n",
    "- Readmes are usuall written in **Markdown**\n",
    "    - Markdown is simple and will just show what you type, but certain symbols (`*`, `#`) have special meaning\n",
    "    - Use file extension `.md`\n",
    "\n",
    "- You can write your own or use mine:\n",
    "    - https://github.com/eswan18/sklearn-api-deploy/blob/main/app-section-1/README.md"
   ]
  },
  {
   "attachments": {},
   "cell_type": "markdown",
   "metadata": {
    "slideshow": {
     "slide_type": "slide"
    }
   },
   "source": [
    "<div class=\"slide-squeeze\"></div>\n",
    "\n",
    "# Iris Prediction API\n",
    "\n",
    "This repo contains an Iris prediction server.\n",
    "To get start the application, run:\n",
    "```\n",
    "uvicorn app.main:app --host 0.0.0.0 --port 8000\n",
    "```\n",
    "\n",
    "## Fetching Predictions\n",
    "\n",
    "If the API server is running at `http://localhost:8000`, then the following should work in a local Python session:\n",
    "```text\n",
    ">>> import requests\n",
    ">>> response = requests.post(\n",
    "...     \"http://localhost:8000/prediction\",\n",
    "...     json={\n",
    "...         \"sepal_width\": 1,\n",
    "...         \"sepal_length\": 1,\n",
    "...         \"petal_length\": 1,\n",
    "...         \"petal_width\": 1,\n",
    "...     },\n",
    "... )\n",
    ">>> response.status_code\n",
    "200\n",
    ">>> response.json()\n",
    "{'flower_type': 0}\n",
    "```"
   ]
  },
  {
   "attachments": {},
   "cell_type": "markdown",
   "metadata": {
    "slideshow": {
     "slide_type": "slide"
    }
   },
   "source": [
    "# Virtual Environments\n",
    "\n",
    "- Different projects we work on will typically require different libraries\n",
    "- A \"virtual environment\" is a way to keep a project-specific set of \"dependencies\""
   ]
  },
  {
   "attachments": {},
   "cell_type": "markdown",
   "metadata": {
    "slideshow": {
     "slide_type": "slide"
    }
   },
   "source": [
    "# Creating Virtual Environments\n",
    "\n",
    "1. Navigate to the base of your project folder in the terminal\n",
    "    - `cd ~/path/to/project` (I can help with this)\n",
    "2. Create a fresh virtual environment with `python3 -m venv .venv`\n",
    "3. \"Activate\" this environment\n",
    "    - `source .venv/bin/activate` (Mac/Linux)\n",
    "    - `.venv\\Scripts\\activate` (Windows)\n",
    "4. Install the libraries from our requirements file\n",
    "    - `pip install -r requirements.txt`"
   ]
  },
  {
   "attachments": {},
   "cell_type": "markdown",
   "metadata": {
    "slideshow": {
     "slide_type": "slide"
    }
   },
   "source": [
    "# Trying It Out\n",
    "\n",
    "You can make sure it worked by starting up Python and trying to import FastAPI\n",
    "\n",
    "```\n",
    "(.venv) $ python\n",
    ">>> import fastapi\n",
    "```\n",
    "\n",
    "If that runs without error, we're good to go!"
   ]
  },
  {
   "attachments": {},
   "cell_type": "markdown",
   "metadata": {
    "slideshow": {
     "slide_type": "slide"
    }
   },
   "source": [
    "<div class=\"your-turn\"></div>\n",
    "\n",
    "# ❗ Your Turn ❗\n",
    "\n",
    "1. Create folders: `app`, `models`, `tests`\n",
    "2. Download & save model file in `models` folder\n",
    "3. Download & save `requirements.txt` file in base of project folder\n",
    "4. Write a `README.md` file in base of project folder\n",
    "4. Create a virtual environment and install requirements\n",
    "    - `python3 -m venv .venv`\n",
    "    - `source .venv/bin/activate`\n",
    "    - `pip install -r requirements.txt`\n"
   ]
  },
  {
   "attachments": {},
   "cell_type": "markdown",
   "metadata": {
    "slideshow": {
     "slide_type": "slide"
    }
   },
   "source": [
    "<div class=\"section-title\"></div>\n",
    "\n",
    "# A \"hello world\"<br>FastAPI app"
   ]
  },
  {
   "attachments": {},
   "cell_type": "markdown",
   "metadata": {
    "slideshow": {
     "slide_type": "slide"
    }
   },
   "source": [
    "# Goals\n",
    "- Build a FastAPI app that returns `\"the API is running\"` at `localhost:8000/`"
   ]
  },
  {
   "attachments": {},
   "cell_type": "markdown",
   "metadata": {
    "slideshow": {
     "slide_type": "slide"
    }
   },
   "source": [
    "<div class=\"your-turn\"></div>\n",
    "\n",
    "# ❗ Your Turn ❗\n",
    "\n",
    "1. Build a `GET` endpoint for `/`\n",
    "    - At `app/main.py`\n",
    "    - It should return `\"the API is running\"` when pinged\n",
    "2. Test the endpoint interactively\n",
    "    - `uvicorn app.main:app`\n",
    "    - `http://localhost:8000/` in the browser\n",
    "3. Write a test fixture for a `TestClient`\n",
    "    - At `tests/conftest.py`\n",
    "4. Write a test for the `/` endpoint\n",
    "    - At `tests/test_app.py`\n",
    "5. Run tests\n",
    "    - `python -m pytest`\n"
   ]
  },
  {
   "attachments": {},
   "cell_type": "markdown",
   "metadata": {
    "slideshow": {
     "slide_type": "slide"
    }
   },
   "source": [
    "<div class=\"section-title\"></div>\n",
    "\n",
    "# Pydantic models and payloads"
   ]
  },
  {
   "attachments": {},
   "cell_type": "markdown",
   "metadata": {
    "slideshow": {
     "slide_type": "slide"
    }
   },
   "source": [
    "# Goals\n",
    "- Build Pydantic models to represent observations and prediction values for our model\n",
    "- Create a `/predict` endpoint that accepts an observation and returns a (dummy) prediction"
   ]
  },
  {
   "attachments": {},
   "cell_type": "markdown",
   "metadata": {
    "slideshow": {
     "slide_type": "slide"
    }
   },
   "source": [
    "<div class=\"your-turn\"></div>\n",
    "\n",
    "# ❗ Your Turn ❗\n",
    "\n",
    "1. Add `Observation` Pydantic model\n",
    "    - Fields: `sepal_length`, `sepal_width`, `petal_length`, `petal_width` (floats)\n",
    "2. Add `Prediction` Pydantic model\n",
    "    - Fields: `flower_type` (literal)\n",
    "3. Write a \"fake\" POST `/predict` endpoint\n",
    "    - Test it interactively: `http://localhost:8000/docs`\n",
    "4. Write a test for it\n",
    "    - At `tests/test_app.py`"
   ]
  },
  {
   "attachments": {},
   "cell_type": "markdown",
   "metadata": {
    "slideshow": {
     "slide_type": "slide"
    }
   },
   "source": [
    "<div class=\"section-title\"></div>\n",
    "\n",
    "# Connecting our model to the API"
   ]
  },
  {
   "attachments": {},
   "cell_type": "markdown",
   "metadata": {
    "slideshow": {
     "slide_type": "slide"
    }
   },
   "source": [
    "# Goals\n",
    "- Update the implementation of the `/predict` endpoint to use our sklearn model"
   ]
  },
  {
   "attachments": {},
   "cell_type": "markdown",
   "metadata": {
    "slideshow": {
     "slide_type": "slide"
    }
   },
   "source": [
    "<div class=\"your-turn\"></div>\n",
    "\n",
    "# ❗ Your Turn ❗\n",
    "\n",
    "1. Write `load_model()` function\n",
    "    - At `app/main.py`\n",
    "2. Add `Observation.as_row()` method\n",
    "    - Return a `pandas.Series` object\n",
    "3. Implement `/predict` endpoint with the real model\n",
    "    - Test it interactively: `http://localhost:8000/docs`\n",
    "4. Update test for for POST `/predict` endpoint\n",
    "    - Add an observation: `[7.1, 3.5, 3.0, 0.8]` -> `versicolour`\n",
    "\n",
    "## Optional\n",
    "\n",
    "1. Add a POST `/batch_predict` endpoint\n",
    "    - `def batch_predict(observations: List[Observation]) -> List[Prediction]:`\n",
    "2. Add a test for it\n"
   ]
  },
  {
   "attachments": {},
   "cell_type": "markdown",
   "metadata": {
    "slideshow": {
     "slide_type": "slide"
    }
   },
   "source": [
    "# Questions"
   ]
  },
  {
   "attachments": {},
   "cell_type": "markdown",
   "metadata": {
    "slideshow": {
     "slide_type": "slide"
    }
   },
   "source": [
    "<div class=\"section-title\"></div>\n",
    "\n",
    "# Other topics"
   ]
  },
  {
   "attachments": {},
   "cell_type": "markdown",
   "metadata": {
    "slideshow": {
     "slide_type": "slide"
    }
   },
   "source": [
    "# Package managers\n",
    "\n",
    "- Using `requirements.txt` alone is a bit hacky\n",
    "    - No way to separate *direct* dependencies from *transitive* dependencies\n",
    "- A tool like `poetry` is a good choice\n",
    "    - Separates direct deps (in `pyproject.toml`) from transitive deps (in `poetry.lock`)\n",
    "    - Handles upgrades\n",
    "    - Allows for installing your project as a package, making imports easier"
   ]
  },
  {
   "attachments": {},
   "cell_type": "markdown",
   "metadata": {
    "slideshow": {
     "slide_type": "slide"
    }
   },
   "source": [
    "# Model storage formats\n",
    "\n",
    "- We used pickle for simplicity\n",
    "- Pickle has some compatibility concerns\n",
    "    - Not always portable across Python versions, package versions, and OSes/architectures\n",
    "- However, not a lot of other common options in my experience\n",
    "    - Can save a matrix of weights if it's a neural net\n",
    "    - Some packages have their own serialization formats"
   ]
  },
  {
   "attachments": {},
   "cell_type": "markdown",
   "metadata": {
    "slideshow": {
     "slide_type": "slide"
    }
   },
   "source": [
    "# Alternatives to API-based deployment\n",
    "\n",
    "- **Batch prediction**: run predictions on a schedule and save results to a database\n",
    "    - If model scoring is slow, this means predictions are ready when needed\n",
    "    - *But* your predictions can be out-of-date\n",
    "- **Streaming prediction**: score data in small batches as it arrives\n",
    "    - Again, predictions are ready when needed (usually)\n",
    "    - *But* more complicated to set up than batch or API-based prediction"
   ]
  },
  {
   "attachments": {},
   "cell_type": "markdown",
   "metadata": {
    "slideshow": {
     "slide_type": "slide"
    }
   },
   "source": [
    "# Thorough testing\n",
    "\n",
    "- We only really wrote one test\n",
    "- Ideally you'd have several tests for each endpoint\n",
    "    - Test the \"happy path\" with a few predictions\n",
    "    - Test error handling with bad inputs\n",
    "- How to handle testing the model itself? Tricky question\n",
    "    - Often not so bad to test a few predictions, but this may change with new model versions\n",
    "    - An active field right now, I haven't seen clear consensus"
   ]
  },
  {
   "attachments": {},
   "cell_type": "markdown",
   "metadata": {
    "slideshow": {
     "slide_type": "slide"
    }
   },
   "source": [
    "# Authentication\n",
    "\n",
    "- A data scientist probably won't (and shouldn't) write authentication code\n",
    "- However, it's good to be aware of the options\n",
    "    - Basic auth: just pass username and password\n",
    "    - API keys: issue a token to the user that they send back with their requests\n",
    "    - OAuth: a more complicated protocol for authentication"
   ]
  },
  {
   "attachments": {},
   "cell_type": "markdown",
   "metadata": {
    "slideshow": {
     "slide_type": "slide"
    }
   },
   "source": [
    "# Deploying an API\n",
    "\n",
    "- As a data scientist or ML engineer, unlikely you'll be doing this but maybe\n",
    "- Typically, host it in the cloud:\n",
    "    - Simple: Heroku\n",
    "    - Medium: containerize (with Docker) and run app on AWS, GCP, Azure\n",
    "    - Hard: Kubernetes"
   ]
  }
 ],
 "metadata": {
  "language_info": {
   "name": "python"
  },
  "orig_nbformat": 4
 },
 "nbformat": 4,
 "nbformat_minor": 2
}
