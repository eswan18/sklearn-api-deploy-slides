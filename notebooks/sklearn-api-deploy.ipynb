{
 "cells": [
  {
   "attachments": {},
   "cell_type": "markdown",
   "metadata": {},
   "source": [
    "<div class=\"prez-title\"></div>\n",
    "\n",
    "# Deploying a Model Prediction Server\n",
    "\n",
    "*Ethan Swan&nbsp;&nbsp;&nbsp;•&nbsp;&nbsp;&nbsp;PyCon 2023&nbsp;&nbsp;&nbsp;•&nbsp;&nbsp;&nbsp;Slides: [eswan18.github.io/sklearn-api-deploy-slides](https://eswan18.github.io/sklearn-api-deploy-slides)*"
   ]
  },
  {
   "attachments": {},
   "cell_type": "markdown",
   "metadata": {
    "slideshow": {
     "slide_type": "slide"
    }
   },
   "source": [
    "# Welcome!"
   ]
  },
  {
   "attachments": {},
   "cell_type": "markdown",
   "metadata": {
    "slideshow": {
     "slide_type": "slide"
    }
   },
   "source": [
    "# Today's Goal\n",
    "\n",
    "Take a **pre-trained model** and deploy it within a **FastAPI app**.\n",
    "\n",
    "\n",
    "- Using a scikit-learn `LogisticRegression` model\n",
    "- Predicting the species of an iris flower."
   ]
  },
  {
   "attachments": {},
   "cell_type": "markdown",
   "metadata": {
    "slideshow": {
     "slide_type": "slide"
    }
   },
   "source": [
    "# About Me\n",
    "\n",
    "### Day Job\n",
    "- **Backend Engineer** on the Analysis Team at [ReviewTrackers](https://www.reviewtrackers.com/)\n",
    "- Previously: **Data Scientist** at [84.51˚](https://www.8451.com/) (5 years)\n",
    "\n",
    "### Outside Teaching and Consulting\n",
    "- Teaching Python for 6+ years\n",
    "    - Adjunct at University of Cincinnati\n",
    "- I offer **consulting** and **corporate training** services\n",
    "    - Web development & ML engineering"
   ]
  },
  {
   "attachments": {},
   "cell_type": "markdown",
   "metadata": {
    "slideshow": {
     "slide_type": "slide"
    }
   },
   "source": [
    "# Find Me Online\n",
    "\n",
    "- Website: [ethanswan.com](https://ethanswan.com/)\n",
    "- GitHub: [eswan18](https://github.com/eswan18)\n",
    "- Twitter: [@eswan18](https://twitter.com/eswan18)"
   ]
  },
  {
   "attachments": {},
   "cell_type": "markdown",
   "metadata": {
    "slideshow": {
     "slide_type": "slide"
    }
   },
   "source": [
    "# Agenda\n",
    "\n",
    "1. Setting up your project workspace\n",
    "2. A \"hello world\" FastAPI app\n",
    "3. Pydantic models and payloads\n",
    "4. Connecting a model to an API"
   ]
  },
  {
   "attachments": {},
   "cell_type": "markdown",
   "metadata": {
    "slideshow": {
     "slide_type": "slide"
    }
   },
   "source": [
    "# Resources\n",
    "\n",
    "### Slides\n",
    "[eswan18.github.io/sklearn-api-deploy-slides](https://eswan18.github.io/sklearn-api-deploy-slides)\n",
    "\n",
    "### Application Code\n",
    "[github.com/eswan18/sklearn-api-deploy](https://github.com/eswan18/sklearn-api-deploy)\n",
    "\n",
    "### Incremental Diffs\n",
    "Section 1: [eswan18.github.io/sklearn-api-deploy-slides/diffs/1.html](https://eswan18.github.io/sklearn-api-deploy-slides/diffs/1.html)\n",
    "\n",
    "Section 2: [eswan18.github.io/sklearn-api-deploy-slides/diffs/2.html](https://eswan18.github.io/sklearn-api-deploy-slides/diffs/2.html)\n",
    "\n",
    "Section 3: [eswan18.github.io/sklearn-api-deploy-slides/diffs/3.html](https://eswan18.github.io/sklearn-api-deploy-slides/diffs/3.html)\n",
    "\n",
    "Section 4: [eswan18.github.io/sklearn-api-deploy-slides/diffs/4.html](https://eswan18.github.io/sklearn-api-deploy-slides/diffs/4.html)\n"
   ]
  },
  {
   "attachments": {},
   "cell_type": "markdown",
   "metadata": {
    "slideshow": {
     "slide_type": "slide"
    }
   },
   "source": [
    "<div class=\"section-title\"></div>\n",
    "\n",
    "# Setting up your project workspace"
   ]
  },
  {
   "attachments": {},
   "cell_type": "markdown",
   "metadata": {
    "slideshow": {
     "slide_type": "slide"
    }
   },
   "source": [
    "# Goals\n",
    "- Create a virtual environment with the packages we need\n",
    "- Set up folder structure for we'll use for rest of tutorial"
   ]
  },
  {
   "attachments": {},
   "cell_type": "markdown",
   "metadata": {
    "slideshow": {
     "slide_type": "slide"
    }
   },
   "source": [
    "# Getting Started\n",
    "\n",
    "Before we get started...\n",
    "\n",
    "- Choose a folder where you're going to save your work during this tutorial\n",
    "- Make sure you can access it from your IDE\n"
   ]
  },
  {
   "cell_type": "markdown",
   "metadata": {
    "slideshow": {
     "slide_type": "slide"
    }
   },
   "source": [
    "# Project Layout\n",
    "\n",
    "- Keeping a regular project structure makes it easier to find things\n",
    "    - If something is broken, you know where to look\n",
    "- What sorts of things do we need to keep track of?\n",
    "    - Code\n",
    "    - Models\n",
    "    - Tests\n",
    "    - Metadata (dependencies, etc.)"
   ]
  },
  {
   "attachments": {},
   "cell_type": "markdown",
   "metadata": {
    "slideshow": {
     "slide_type": "slide"
    }
   },
   "source": [
    "# Project Layout\n",
    "\n",
    "\n",
    "- Make folders for application code (`app`), models (`models`), and tests (`tests`)\n",
    "- Any metadata will go at the root of the repo.\n",
    "\n",
    "```\n",
    "project\n",
    "├── app/\n",
    "├── models/\n",
    "└── tests/\n",
    "```"
   ]
  },
  {
   "attachments": {},
   "cell_type": "markdown",
   "metadata": {
    "slideshow": {
     "slide_type": "slide"
    }
   },
   "source": [
    "# Project Layout\n",
    "\n",
    "\n",
    "We'll also download and add a couple of files to get started\n",
    "- `requirements.txt` -> https://github.com/eswan18/sklearn-api-deploy/blob/main/app-section-1/requirements.txt\n",
    "- `iris_regression.pickle` -> https://github.com/eswan18/sklearn-api-deploy/blob/main/app-section-1/models/iris_regression.pickle\n",
    "\n",
    "```\n",
    "project\n",
    "├── app/\n",
    "├── models/\n",
    "│   └── iris_regression.pickle\n",
    "├── tests/\n",
    "└── requirements.txt\n",
    "```"
   ]
  },
  {
   "attachments": {},
   "cell_type": "markdown",
   "metadata": {
    "slideshow": {
     "slide_type": "slide"
    }
   },
   "source": [
    "# Downloading GitHub Files\n",
    "\n",
    "Go to the link and look for the download button (upper right)\n",
    "\n",
    "![GH File Download](images/gh-file-download.png)"
   ]
  },
  {
   "attachments": {},
   "cell_type": "markdown",
   "metadata": {
    "slideshow": {
     "slide_type": "slide"
    }
   },
   "source": [
    "# Readmes\n",
    "\n",
    "- Always include a short \"readme\" file with your projects\n",
    "- Explain the purpose of the project and how to install/run it\n",
    "\n",
    "\n",
    "```\n",
    "project\n",
    "├── app/\n",
    "├── models/\n",
    "│   └── iris_regression.pickle\n",
    "├── tests/\n",
    "├── README.md\n",
    "└── requirements.txt\n",
    "```"
   ]
  },
  {
   "attachments": {},
   "cell_type": "markdown",
   "metadata": {
    "slideshow": {
     "slide_type": "slide"
    }
   },
   "source": [
    "# Readmes\n",
    "\n",
    "- Readmes are usuall written in **Markdown**\n",
    "    - Markdown is simple and will just show what you type, but certain symbols (`*`, `#`) have special meaning\n",
    "    - Use file extension `.md`\n",
    "\n",
    "- You can write your own or use mine:\n",
    "    - https://github.com/eswan18/sklearn-api-deploy/blob/main/app-section-1/README.md"
   ]
  },
  {
   "attachments": {},
   "cell_type": "markdown",
   "metadata": {
    "slideshow": {
     "slide_type": "slide"
    }
   },
   "source": [
    "<div class=\"slide-squeeze\"></div>\n",
    "\n",
    "# Iris Prediction API\n",
    "\n",
    "This repo contains an Iris prediction server.\n",
    "To get start the application, run:\n",
    "```\n",
    "uvicorn app.main:app --host 0.0.0.0 --port 8000\n",
    "```\n",
    "\n",
    "## Fetching Predictions\n",
    "\n",
    "If the API server is running at `http://localhost:8000`, then the following should work in a local Python session:\n",
    "```text\n",
    ">>> import requests\n",
    ">>> response = requests.post(\n",
    "...     \"http://localhost:8000/prediction\",\n",
    "...     json={\n",
    "...         \"sepal_width\": 1,\n",
    "...         \"sepal_length\": 1,\n",
    "...         \"petal_length\": 1,\n",
    "...         \"petal_width\": 1,\n",
    "...     },\n",
    "... )\n",
    ">>> response.status_code\n",
    "200\n",
    ">>> response.json()\n",
    "{'flower_type': 0}\n",
    "```"
   ]
  },
  {
   "attachments": {},
   "cell_type": "markdown",
   "metadata": {
    "slideshow": {
     "slide_type": "slide"
    }
   },
   "source": [
    "# Virtual Environments\n",
    "\n",
    "- Different projects we work on will typically require different libraries\n",
    "- A \"virtual environment\" is a way to keep a project-specific set of \"dependencies\""
   ]
  },
  {
   "attachments": {},
   "cell_type": "markdown",
   "metadata": {
    "slideshow": {
     "slide_type": "slide"
    }
   },
   "source": [
    "# Creating Virtual Environments\n",
    "\n",
    "1. Navigate to the base of your project folder in the terminal\n",
    "    - `cd ~/path/to/project` (I can help with this)\n",
    "2. Create a fresh virtual environment with `python3 -m venv .venv`\n",
    "3. \"Activate\" this environment\n",
    "    - `source .venv/bin/activate` (Mac/Linux)\n",
    "    - `.venv\\Scripts\\activate` (Windows)\n",
    "4. Install the libraries from our requirements file\n",
    "    - `pip install -r requirements.txt`"
   ]
  },
  {
   "attachments": {},
   "cell_type": "markdown",
   "metadata": {
    "slideshow": {
     "slide_type": "slide"
    }
   },
   "source": [
    "# Trying It Out\n",
    "\n",
    "You can make sure it worked by starting up Python and trying to import FastAPI\n",
    "\n",
    "```\n",
    "(.venv) $ python\n",
    ">>> import fastapi\n",
    "```\n",
    "\n",
    "If that runs without error, we're good to go!"
   ]
  },
  {
   "attachments": {},
   "cell_type": "markdown",
   "metadata": {
    "slideshow": {
     "slide_type": "slide"
    }
   },
   "source": [
    "<div class=\"your-turn\"></div>\n",
    "\n",
    "# ❗ Your Turn ❗\n",
    "\n",
    "1. Create folders: `app`, `models`, `tests`\n",
    "2. Download & save model file in `models` folder\n",
    "3. Download & save `requirements.txt` file in base of project folder\n",
    "4. Write a `README.md` file in base of project folder\n",
    "4. Create a virtual environment and install requirements\n",
    "    - `python3 -m venv .venv`\n",
    "    - `source .venv/bin/activate`\n",
    "    - `pip install -r requirements.txt`\n"
   ]
  },
  {
   "attachments": {},
   "cell_type": "markdown",
   "metadata": {
    "slideshow": {
     "slide_type": "slide"
    }
   },
   "source": [
    "<div class=\"section-title\"></div>\n",
    "\n",
    "# A \"hello world\"<br>FastAPI app"
   ]
  },
  {
   "attachments": {},
   "cell_type": "markdown",
   "metadata": {
    "slideshow": {
     "slide_type": "slide"
    }
   },
   "source": [
    "# Goals\n",
    "- Build a FastAPI app that returns `\"the API is running\"` at `localhost:8000/`"
   ]
  },
  {
   "attachments": {},
   "cell_type": "markdown",
   "metadata": {
    "slideshow": {
     "slide_type": "slide"
    }
   },
   "source": [
    "# Web APIs\n",
    "\n",
    "A Web API is a bit like **a function that you can call over the internet**\n",
    "- You send a **request** and get back a **response**\n",
    "    - A request is like function arguments\n",
    "    - A response is like a function return value\n",
    "- Requests specify a **method** -- a special argument for what type of action to take\n",
    "    - `GET` -> asking for some data\n",
    "    - `POST` -> sending some data\n",
    "    - ... some others we won't use today"
   ]
  },
  {
   "attachments": {},
   "cell_type": "markdown",
   "metadata": {
    "slideshow": {
     "slide_type": "slide"
    }
   },
   "source": [
    "# HTTP\n",
    "\n",
    "The protocol for doing this is called **HTTP**\n",
    "\n",
    "![Request/response diagram](images/request-response.jpeg)"
   ]
  },
  {
   "attachments": {},
   "cell_type": "markdown",
   "metadata": {
    "slideshow": {
     "slide_type": "slide"
    }
   },
   "source": [
    "# Web APIs\n",
    "\n",
    "APIs are a little bit different from functions though...\n",
    "\n",
    "- **Network issues**: can result in slow (or no) response\n",
    "- **Status codes**: success vs error indicated by a 3-digit code in the response\n",
    "    - Codes 200-299 = success\n",
    "    - Most others = error\n",
    "- **Routes**: APIs are called by URL, not function name\n",
    "    - e.g. `https://myweatherapi.com/chicago/temp`\n",
    "    - We call `/chicago/temp` the \"route\" or \"path\""
   ]
  },
  {
   "attachments": {},
   "cell_type": "markdown",
   "metadata": {
    "slideshow": {
     "slide_type": "slide"
    }
   },
   "source": [
    "# FastAPI\n",
    "\n",
    "Awesome Python library for easily building web APIs\n",
    "- **Simple**: Represents each route as a Python function\n",
    "    - Uses type hints to figure out what the request should look like.\n",
    "- **Documentation**: Automatically generates docs\n",
    "- **Performance**: Handles requests asynchronously without any extra work"
   ]
  },
  {
   "attachments": {},
   "cell_type": "markdown",
   "metadata": {
    "slideshow": {
     "slide_type": "slide"
    }
   },
   "source": [
    "# A Simple FastAPI App\n",
    "\n",
    "\n",
    "\n",
    "```python\n",
    "# app/main.py\n",
    "\n",
    "from fastapi import FastAPI\n",
    "\n",
    "app = FastAPI()\n",
    "\n",
    "@app.get(\"/\")\n",
    "def status():\n",
    "    \"\"\"Check that the API is working.\"\"\"\n",
    "    return \"the API is up and running!\"\n",
    "```"
   ]
  },
  {
   "attachments": {},
   "cell_type": "markdown",
   "metadata": {
    "slideshow": {
     "slide_type": "slide"
    }
   },
   "source": [
    "# Running the App\n",
    "\n",
    "```text\n",
    "$ uvicorn app.main:app --host 0.0.0.0 --port 8000\n",
    "```\n",
    "\n",
    "```text\n",
    "INFO:     Started server process [36347]\n",
    "INFO:     Waiting for application startup.\n",
    "INFO:     Application startup complete.\n",
    "INFO:     Uvicorn running on http://0.0.0.0:8000 (Press CTRL+C to quit)\n",
    "```"
   ]
  },
  {
   "attachments": {},
   "cell_type": "markdown",
   "metadata": {
    "slideshow": {
     "slide_type": "slide"
    }
   },
   "source": [
    "Let's look at `http://localhost:8000/` and `http://localhost:8000/docs`.\n",
    "\n",
    "![FastAPI GET /status](images/fastapi-get-status.png)"
   ]
  },
  {
   "attachments": {},
   "cell_type": "markdown",
   "metadata": {
    "slideshow": {
     "slide_type": "slide"
    }
   },
   "source": [
    "# Testing Our App\n",
    "\n",
    "- Writing automated tests for your project can help ensure that things work as you expect\n",
    "    - You don't have to manually test your whole app after every change\n",
    "\n",
    "- We're going to use the very popular `pytest` library for testing\n",
    "    - Most popular third-party testing library in Python\n",
    "    - Easy to get started with"
   ]
  },
  {
   "attachments": {},
   "cell_type": "markdown",
   "metadata": {
    "slideshow": {
     "slide_type": "slide"
    }
   },
   "source": [
    "# Pytest\n",
    "\n",
    "- Keep your test files in the `tests/` directory\n",
    "- Files should be named `tests/test_<thing>.py`\n",
    "- Tests themselves are just functions with `assert` statements\n",
    "\n",
    "```python\n",
    "# tests/test_addition.py\n",
    "\n",
    "def test_addition_of_2_and_2():\n",
    "    result = 2 + 2\n",
    "    assert result == 4\n",
    "```"
   ]
  },
  {
   "attachments": {},
   "cell_type": "markdown",
   "metadata": {
    "slideshow": {
     "slide_type": "slide"
    }
   },
   "source": [
    "# Pytest Fixtures\n",
    "\n",
    "- Pytest lets you write setup code to use across multiple tests through **fixture functions**\n",
    "- These are generally kept in `tests/conftest.py`"
   ]
  },
  {
   "attachments": {},
   "cell_type": "markdown",
   "metadata": {
    "slideshow": {
     "slide_type": "slide"
    }
   },
   "source": [
    "# Pytest Fixtures\n",
    "\n",
    "In our case, we want to create an instance of our app to use in our tests:\n",
    "\n",
    "```python\n",
    "# tests/conftest.py\n",
    "\n",
    "import pytest\n",
    "from fastapi.testclient import TestClient\n",
    "\n",
    "from app.main import app\n",
    "\n",
    "\n",
    "@pytest.fixture\n",
    "def client() -> TestClient:\n",
    "    return TestClient(app)\n",
    "```"
   ]
  },
  {
   "attachments": {},
   "cell_type": "markdown",
   "metadata": {
    "slideshow": {
     "slide_type": "slide"
    }
   },
   "source": [
    "# Testing Our Status Endpoint\n",
    "\n",
    "Then we can use it in a test that checks the status endpoint:\n",
    "\n",
    "```python\n",
    "# tests/test_app.py\n",
    "\n",
    "from fastapi.testclient import TestClient\n",
    "\n",
    "\n",
    "def test_status_endpoint(client: TestClient):\n",
    "    response = client.get(\"/\")\n",
    "    assert response.status_code == 200\n",
    "    payload = response.json()\n",
    "    assert payload == \"the API is up and running!\"\n",
    "```"
   ]
  },
  {
   "attachments": {},
   "cell_type": "markdown",
   "metadata": {
    "slideshow": {
     "slide_type": "slide"
    }
   },
   "source": [
    "# Running Tests\n",
    "\n",
    "Kick off tests from the command line with `python -m pytest`.\n",
    "\n",
    "![pytest output](images/pytest.png)"
   ]
  },
  {
   "attachments": {},
   "cell_type": "markdown",
   "metadata": {
    "slideshow": {
     "slide_type": "slide"
    }
   },
   "source": [
    "<div class=\"your-turn\"></div>\n",
    "\n",
    "# ❗ Your Turn ❗\n",
    "\n",
    "1. Build a `GET` endpoint for `/`\n",
    "    - At `app/main.py`\n",
    "    - It should return `\"the API is running\"` when pinged\n",
    "2. Test the endpoint interactively\n",
    "    - `uvicorn app.main:app`\n",
    "    - `http://localhost:8000/` in the browser\n",
    "3. Write a test fixture for a `TestClient`\n",
    "    - At `tests/conftest.py`\n",
    "4. Write a test for the `/` endpoint\n",
    "    - At `tests/test_app.py`\n",
    "5. Run tests\n",
    "    - `python -m pytest`\n"
   ]
  },
  {
   "attachments": {},
   "cell_type": "markdown",
   "metadata": {
    "slideshow": {
     "slide_type": "slide"
    }
   },
   "source": [
    "<div class=\"section-title\"></div>\n",
    "\n",
    "# Pydantic models and payloads"
   ]
  },
  {
   "attachments": {},
   "cell_type": "markdown",
   "metadata": {
    "slideshow": {
     "slide_type": "slide"
    }
   },
   "source": [
    "# Goals\n",
    "- Build Pydantic models to represent observations and prediction values for our model\n",
    "- Create a `/predict` endpoint that accepts an observation and returns a (dummy) prediction"
   ]
  },
  {
   "attachments": {},
   "cell_type": "markdown",
   "metadata": {
    "slideshow": {
     "slide_type": "slide"
    }
   },
   "source": [
    "<div class=\"your-turn\"></div>\n",
    "\n",
    "# ❗ Your Turn ❗\n",
    "\n",
    "1. Add `Observation` Pydantic model\n",
    "    - Fields: `sepal_length`, `sepal_width`, `petal_length`, `petal_width` (floats)\n",
    "2. Add `Prediction` Pydantic model\n",
    "    - Fields: `flower_type` (literal)\n",
    "3. Write a \"fake\" POST `/predict` endpoint\n",
    "    - Test it interactively: `http://localhost:8000/docs`\n",
    "4. Write a test for it\n",
    "    - At `tests/test_app.py`"
   ]
  },
  {
   "attachments": {},
   "cell_type": "markdown",
   "metadata": {
    "slideshow": {
     "slide_type": "slide"
    }
   },
   "source": [
    "<div class=\"section-title\"></div>\n",
    "\n",
    "# Connecting our model to the API"
   ]
  },
  {
   "attachments": {},
   "cell_type": "markdown",
   "metadata": {
    "slideshow": {
     "slide_type": "slide"
    }
   },
   "source": [
    "# Goals\n",
    "- Update the implementation of the `/predict` endpoint to use our sklearn model"
   ]
  },
  {
   "attachments": {},
   "cell_type": "markdown",
   "metadata": {
    "slideshow": {
     "slide_type": "slide"
    }
   },
   "source": [
    "<div class=\"your-turn\"></div>\n",
    "\n",
    "# ❗ Your Turn ❗\n",
    "\n",
    "1. Write `load_model()` function\n",
    "    - At `app/main.py`\n",
    "2. Add `Observation.as_row()` method\n",
    "    - Return a `pandas.Series` object\n",
    "3. Implement `/predict` endpoint with the real model\n",
    "    - Test it interactively: `http://localhost:8000/docs`\n",
    "4. Update test for for POST `/predict` endpoint\n",
    "    - Add an observation: `[7.1, 3.5, 3.0, 0.8]` -> `versicolour`\n",
    "\n",
    "## Optional\n",
    "\n",
    "1. Add a POST `/batch_predict` endpoint\n",
    "    - `def batch_predict(observations: List[Observation]) -> List[Prediction]:`\n",
    "2. Add a test for it\n"
   ]
  },
  {
   "attachments": {},
   "cell_type": "markdown",
   "metadata": {
    "slideshow": {
     "slide_type": "slide"
    }
   },
   "source": [
    "# Questions"
   ]
  },
  {
   "attachments": {},
   "cell_type": "markdown",
   "metadata": {
    "slideshow": {
     "slide_type": "slide"
    }
   },
   "source": [
    "<div class=\"section-title\"></div>\n",
    "\n",
    "# Other topics"
   ]
  },
  {
   "attachments": {},
   "cell_type": "markdown",
   "metadata": {
    "slideshow": {
     "slide_type": "slide"
    }
   },
   "source": [
    "# Package managers\n",
    "\n",
    "- Using `requirements.txt` alone is a bit hacky\n",
    "    - No way to separate *direct* dependencies from *transitive* dependencies\n",
    "- A tool like `poetry` is a good choice\n",
    "    - Separates direct deps (in `pyproject.toml`) from transitive deps (in `poetry.lock`)\n",
    "    - Handles upgrades\n",
    "    - Allows for installing your project as a package, making imports easier"
   ]
  },
  {
   "attachments": {},
   "cell_type": "markdown",
   "metadata": {
    "slideshow": {
     "slide_type": "slide"
    }
   },
   "source": [
    "# Model storage formats\n",
    "\n",
    "- We used pickle for simplicity\n",
    "- Pickle has some compatibility concerns\n",
    "    - Not always portable across Python versions, package versions, and OSes/architectures\n",
    "- However, not a lot of other common options in my experience\n",
    "    - Can save a matrix of weights if it's a neural net\n",
    "    - Some packages have their own serialization formats"
   ]
  },
  {
   "attachments": {},
   "cell_type": "markdown",
   "metadata": {
    "slideshow": {
     "slide_type": "slide"
    }
   },
   "source": [
    "# Alternatives to API-based deployment\n",
    "\n",
    "- **Batch prediction**: run predictions on a schedule and save results to a database\n",
    "    - If model scoring is slow, this means predictions are ready when needed\n",
    "    - *But* your predictions can be out-of-date\n",
    "- **Streaming prediction**: score data in small batches as it arrives\n",
    "    - Again, predictions are ready when needed (usually)\n",
    "    - *But* more complicated to set up than batch or API-based prediction"
   ]
  },
  {
   "attachments": {},
   "cell_type": "markdown",
   "metadata": {
    "slideshow": {
     "slide_type": "slide"
    }
   },
   "source": [
    "# Thorough testing\n",
    "\n",
    "- We only really wrote one test\n",
    "- Ideally you'd have several tests for each endpoint\n",
    "    - Test the \"happy path\" with a few predictions\n",
    "    - Test error handling with bad inputs\n",
    "- How to handle testing the model itself? Tricky question\n",
    "    - Often not so bad to test a few predictions, but this may change with new model versions\n",
    "    - An active field right now, I haven't seen clear consensus"
   ]
  },
  {
   "attachments": {},
   "cell_type": "markdown",
   "metadata": {
    "slideshow": {
     "slide_type": "slide"
    }
   },
   "source": [
    "# Authentication\n",
    "\n",
    "- A data scientist probably won't (and shouldn't) write authentication code\n",
    "- However, it's good to be aware of the options\n",
    "    - Basic auth: just pass username and password\n",
    "    - API keys: issue a token to the user that they send back with their requests\n",
    "    - OAuth: a more complicated protocol for authentication"
   ]
  },
  {
   "attachments": {},
   "cell_type": "markdown",
   "metadata": {
    "slideshow": {
     "slide_type": "slide"
    }
   },
   "source": [
    "# Deploying an API\n",
    "\n",
    "- As a data scientist or ML engineer, unlikely you'll be doing this but maybe\n",
    "- Typically, host it in the cloud:\n",
    "    - Simple: Heroku\n",
    "    - Medium: containerize (with Docker) and run app on AWS, GCP, Azure\n",
    "    - Hard: Kubernetes"
   ]
  }
 ],
 "metadata": {
  "language_info": {
   "name": "python"
  },
  "orig_nbformat": 4
 },
 "nbformat": 4,
 "nbformat_minor": 2
}
