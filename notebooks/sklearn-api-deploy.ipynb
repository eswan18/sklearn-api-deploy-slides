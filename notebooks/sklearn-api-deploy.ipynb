{
 "cells": [
  {
   "attachments": {},
   "cell_type": "markdown",
   "metadata": {},
   "source": [
    "<div class=\"prez-title\"></div>\n",
    "\n",
    "# Deploying a Model Prediction Server\n",
    "\n",
    "*Ethan Swan&nbsp;&nbsp;&nbsp;&nbsp;•&nbsp;&nbsp;&nbsp;&nbsp;PyCon 2023*"
   ]
  },
  {
   "attachments": {},
   "cell_type": "markdown",
   "metadata": {
    "slideshow": {
     "slide_type": "slide"
    }
   },
   "source": [
    "# Welcome!"
   ]
  },
  {
   "attachments": {},
   "cell_type": "markdown",
   "metadata": {
    "slideshow": {
     "slide_type": "slide"
    }
   },
   "source": [
    "# Today's Goal\n",
    "\n",
    "Take a **pre-trained model** and deploy it within a **FastAPI app**.\n",
    "\n",
    "\n",
    "- Using a scikit-learn `LogisticRegression` model\n",
    "- Predicting the species of an iris flower."
   ]
  },
  {
   "attachments": {},
   "cell_type": "markdown",
   "metadata": {
    "slideshow": {
     "slide_type": "slide"
    }
   },
   "source": [
    "# About Me\n",
    "\n",
    "### Day Job\n",
    "- **Backend Engineer** on the Analysis Team at [ReviewTrackers](https://www.reviewtrackers.com/)\n",
    "- Previously: **Data Scientist** at [84.51˚](https://www.8451.com/) (5 years)\n",
    "\n",
    "### Outside Teaching and Consulting\n",
    "- Teaching Python for 6+ years\n",
    "    - Adjunct at University of Cincinnati\n",
    "- I offer **consulting** and **corporate training** services\n",
    "    - Web development & ML engineering"
   ]
  },
  {
   "attachments": {},
   "cell_type": "markdown",
   "metadata": {
    "slideshow": {
     "slide_type": "slide"
    }
   },
   "source": [
    "# Agenda\n",
    "\n",
    "1. Setting up your project workspace\n",
    "2. A \"hello world\" FastAPI app\n",
    "3. Pydantic models and payloads\n",
    "4. Connecting a model to an API"
   ]
  },
  {
   "attachments": {},
   "cell_type": "markdown",
   "metadata": {
    "slideshow": {
     "slide_type": "slide"
    }
   },
   "source": [
    "<div class=\"section-title\"></div>\n",
    "\n",
    "# Setting up your project workspace"
   ]
  },
  {
   "attachments": {},
   "cell_type": "markdown",
   "metadata": {
    "slideshow": {
     "slide_type": "slide"
    }
   },
   "source": [
    "<div class=\"your-turn\"></div>\n",
    "\n",
    "# ❗ Your Turn ❗\n",
    "\n",
    "1. Create folders: `app`, `models`, `tests`\n",
    "2. Save model file in `models` folder\n",
    "3. Save `requirements.txt` file in base of project\n",
    "4. Create a virtual environment and install requirements\n",
    "    - `python3 -m venv .venv`\n",
    "    - `source .venv/bin/activate`\n",
    "    - `pip install -r requirements.txt`\n"
   ]
  },
  {
   "attachments": {},
   "cell_type": "markdown",
   "metadata": {
    "slideshow": {
     "slide_type": "slide"
    }
   },
   "source": [
    "<div class=\"section-title\"></div>\n",
    "\n",
    "# A \"hello world\"<br>FastAPI app"
   ]
  },
  {
   "attachments": {},
   "cell_type": "markdown",
   "metadata": {
    "slideshow": {
     "slide_type": "slide"
    }
   },
   "source": [
    "<div class=\"your-turn\"></div>\n",
    "\n",
    "# ❗ Your Turn ❗\n",
    "\n",
    "1. Build a `GET` endpoint for `/status`\n",
    "    - At `app/main.py`\n",
    "    - It should return `\"the API is running\"` when pinged\n",
    "2. Test the endpoint interactively\n",
    "    - `uvicorn app.main:app`\n",
    "    - `http://localhost:8000/status` in the browser\n",
    "3. Write a test fixture for a `TestClient`\n",
    "    - At `tests/conftest.py`\n",
    "4. Write a test for the `/status` endpoint\n",
    "    - At `tests/test_app.py`\n",
    "5. Run tests\n",
    "    - `python -m pytest`\n"
   ]
  },
  {
   "attachments": {},
   "cell_type": "markdown",
   "metadata": {
    "slideshow": {
     "slide_type": "slide"
    }
   },
   "source": [
    "<div class=\"section-title\"></div>\n",
    "\n",
    "# Pydantic models and payloads"
   ]
  },
  {
   "attachments": {},
   "cell_type": "markdown",
   "metadata": {
    "slideshow": {
     "slide_type": "slide"
    }
   },
   "source": [
    "<div class=\"your-turn\"></div>\n",
    "\n",
    "# ❗ Your Turn ❗\n",
    "\n",
    "1. Add `Observation` Pydantic model\n",
    "    - Fields: `sepal_length`, `sepal_width`, `petal_length`, `petal_width` (floats)\n",
    "2. Add `Prediction` Pydantic model\n",
    "    - Fields: `flower_type` (literal)\n",
    "3. Write a \"fake\" POST `/predict` endpoint\n",
    "    - Test it interactively: `http://localhost:8000/docs`\n",
    "4. Write a test for it\n",
    "    - At `tests/test_app.py`"
   ]
  },
  {
   "attachments": {},
   "cell_type": "markdown",
   "metadata": {
    "slideshow": {
     "slide_type": "slide"
    }
   },
   "source": [
    "<div class=\"section-title\"></div>\n",
    "\n",
    "# Connecting our model to the API"
   ]
  },
  {
   "attachments": {},
   "cell_type": "markdown",
   "metadata": {
    "slideshow": {
     "slide_type": "slide"
    }
   },
   "source": [
    "<div class=\"your-turn\"></div>\n",
    "\n",
    "# ❗ Your Turn ❗\n",
    "\n",
    "1. Write `load_model()` function\n",
    "    - At `app/main.py`\n",
    "2. Add `Observation.as_row()` method\n",
    "    - Return a `pandas.Series` object\n",
    "3. Implement `/predict` endpoint with the real model\n",
    "    - Test it interactively: `http://localhost:8000/docs`\n",
    "4. Update test for for POST `/predict` endpoint\n",
    "    - Add an observation: `[7.1, 3.5, 3.0, 0.8]` -> `versicolour`\n",
    "\n",
    "## Optional\n",
    "\n",
    "1. Add a POST `/batch_predict` endpoint\n",
    "    - Takes `list[Observation]` as input\n",
    "    - Returns `list[Prediction]` as output\n",
    "2. Add a test for it\n"
   ]
  },
  {
   "attachments": {},
   "cell_type": "markdown",
   "metadata": {
    "slideshow": {
     "slide_type": "slide"
    }
   },
   "source": [
    "# Questions"
   ]
  },
  {
   "attachments": {},
   "cell_type": "markdown",
   "metadata": {
    "slideshow": {
     "slide_type": "slide"
    }
   },
   "source": [
    "<div class=\"section-title\"></div>\n",
    "\n",
    "# Other topics"
   ]
  },
  {
   "attachments": {},
   "cell_type": "markdown",
   "metadata": {
    "slideshow": {
     "slide_type": "slide"
    }
   },
   "source": [
    "# Package managers\n",
    "\n",
    "- Using `requirements.txt` alone is a bit hacky\n",
    "    - No way to separate *direct* dependencies from *transitive* dependencies\n",
    "- A tool like `poetry` is a good choice\n",
    "    - Separates direct deps (in `pyproject.toml`) from transitive deps (in `poetry.lock`)\n",
    "    - Handles upgrades\n",
    "    - Allows for installing your project as a package, making imports easier"
   ]
  },
  {
   "attachments": {},
   "cell_type": "markdown",
   "metadata": {
    "slideshow": {
     "slide_type": "slide"
    }
   },
   "source": [
    "# Model storage formats\n",
    "\n",
    "- We used pickle for simplicity\n",
    "- Pickle has some compatibility concerns\n",
    "    - Not always portable across Python versions, package versions, and OSes/architectures\n",
    "- However, not a lot of other common options in my experience\n",
    "    - Can save a matrix of weights if it's a neural net\n",
    "    - Some packages have their own serialization formats"
   ]
  },
  {
   "attachments": {},
   "cell_type": "markdown",
   "metadata": {
    "slideshow": {
     "slide_type": "slide"
    }
   },
   "source": [
    "# Alternatives to API-based deployment\n",
    "\n",
    "- **Batch prediction**: run predictions on a schedule and save results to a database\n",
    "    - If model scoring is slow, this means predictions are ready when needed\n",
    "    - *But* your predictions can be out-of-date\n",
    "- **Streaming prediction**: score data in small batches as it arrives\n",
    "    - Again, predictions are ready when needed (usually)\n",
    "    - *But* more complicated to set up than batch or API-based prediction"
   ]
  },
  {
   "attachments": {},
   "cell_type": "markdown",
   "metadata": {
    "slideshow": {
     "slide_type": "slide"
    }
   },
   "source": [
    "# Thorough testing\n",
    "\n",
    "- We only really wrote one test\n",
    "- Ideally you'd have several tests for each endpoint\n",
    "    - Test the \"happy path\" with a few predictions\n",
    "    - Test error handling with bad inputs\n",
    "- How to handle testing the model itself? Tricky question\n",
    "    - Often not so bad to test a few predictions, but this may change with new model versions\n",
    "    - An active field right now, I haven't seen clear consensus"
   ]
  },
  {
   "attachments": {},
   "cell_type": "markdown",
   "metadata": {
    "slideshow": {
     "slide_type": "slide"
    }
   },
   "source": [
    "# Authentication\n",
    "\n",
    "- A data scientist probably won't (and shouldn't) write authentication code\n",
    "- However, it's good to be aware of the options\n",
    "    - Basic auth: just pass username and password\n",
    "    - API keys: issue a token to the user that they send back with their requests\n",
    "    - OAuth: a more complicated protocol for authentication"
   ]
  },
  {
   "attachments": {},
   "cell_type": "markdown",
   "metadata": {
    "slideshow": {
     "slide_type": "slide"
    }
   },
   "source": [
    "# Deploying an API\n",
    "\n",
    "- As a data scientist or ML engineer, unlikely you'll be doing this but maybe\n",
    "- Typically, host it in the cloud:\n",
    "    - Simple: Heroku\n",
    "    - Medium: containerize (with Docker) and run app on AWS, GCP, Azure\n",
    "    - Hard: Kubernetes"
   ]
  }
 ],
 "metadata": {
  "language_info": {
   "name": "python"
  },
  "orig_nbformat": 4
 },
 "nbformat": 4,
 "nbformat_minor": 2
}
